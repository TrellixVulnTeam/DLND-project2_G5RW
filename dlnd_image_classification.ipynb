{
 "cells": [
  {
   "cell_type": "markdown",
   "metadata": {
    "collapsed": true,
    "deletable": true,
    "editable": true
   },
   "source": [
    "# Image Classification\n",
    "In this project, you'll classify images from the [CIFAR-10 dataset](https://www.cs.toronto.edu/~kriz/cifar.html).  The dataset consists of airplanes, dogs, cats, and other objects. You'll preprocess the images, then train a convolutional neural network on all the samples. The images need to be normalized and the labels need to be one-hot encoded.  You'll get to apply what you learned and build a convolutional, max pooling, dropout, and fully connected layers.  At the end, you'll get to see your neural network's predictions on the sample images.\n",
    "## Get the Data\n",
    "Run the following cell to download the [CIFAR-10 dataset for python](https://www.cs.toronto.edu/~kriz/cifar-10-python.tar.gz)."
   ]
  },
  {
   "cell_type": "code",
   "execution_count": 1,
   "metadata": {
    "collapsed": false,
    "deletable": true,
    "editable": true
   },
   "outputs": [
    {
     "name": "stdout",
     "output_type": "stream",
     "text": [
      "All files found!\n"
     ]
    }
   ],
   "source": [
    "\"\"\"\n",
    "DON'T MODIFY ANYTHING IN THIS CELL THAT IS BELOW THIS LINE\n",
    "\"\"\"\n",
    "from urllib.request import urlretrieve\n",
    "from os.path import isfile, isdir\n",
    "from tqdm import tqdm\n",
    "import problem_unittests as tests\n",
    "import tarfile\n",
    "\n",
    "cifar10_dataset_folder_path = 'cifar-10-batches-py'\n",
    "\n",
    "class DLProgress(tqdm):\n",
    "    last_block = 0\n",
    "\n",
    "    def hook(self, block_num=1, block_size=1, total_size=None):\n",
    "        self.total = total_size\n",
    "        self.update((block_num - self.last_block) * block_size)\n",
    "        self.last_block = block_num\n",
    "\n",
    "if not isfile('cifar-10-python.tar.gz'):\n",
    "    with DLProgress(unit='B', unit_scale=True, miniters=1, desc='CIFAR-10 Dataset') as pbar:\n",
    "        urlretrieve(\n",
    "            'https://www.cs.toronto.edu/~kriz/cifar-10-python.tar.gz',\n",
    "            'cifar-10-python.tar.gz',\n",
    "            pbar.hook)\n",
    "\n",
    "if not isdir(cifar10_dataset_folder_path):\n",
    "    with tarfile.open('cifar-10-python.tar.gz') as tar:\n",
    "        tar.extractall()\n",
    "        tar.close()\n",
    "\n",
    "\n",
    "tests.test_folder_path(cifar10_dataset_folder_path)"
   ]
  },
  {
   "cell_type": "markdown",
   "metadata": {
    "deletable": true,
    "editable": true
   },
   "source": [
    "## Explore the Data\n",
    "The dataset is broken into batches to prevent your machine from running out of memory.  The CIFAR-10 dataset consists of 5 batches, named `data_batch_1`, `data_batch_2`, etc.. Each batch contains the labels and images that are one of the following:\n",
    "* airplane\n",
    "* automobile\n",
    "* bird\n",
    "* cat\n",
    "* deer\n",
    "* dog\n",
    "* frog\n",
    "* horse\n",
    "* ship\n",
    "* truck\n",
    "\n",
    "Understanding a dataset is part of making predictions on the data.  Play around with the code cell below by changing the `batch_id` and `sample_id`. The `batch_id` is the id for a batch (1-5). The `sample_id` is the id for a image and label pair in the batch.\n",
    "\n",
    "Ask yourself \"What are all possible labels?\", \"What is the range of values for the image data?\", \"Are the labels in order or random?\".  Answers to questions like these will help you preprocess the data and end up with better predictions."
   ]
  },
  {
   "cell_type": "code",
   "execution_count": 2,
   "metadata": {
    "collapsed": false,
    "deletable": true,
    "editable": true
   },
   "outputs": [
    {
     "name": "stdout",
     "output_type": "stream",
     "text": [
      "\n",
      "Stats of batch 3:\n",
      "Samples: 10000\n",
      "Label Counts: {0: 994, 1: 1042, 2: 965, 3: 997, 4: 990, 5: 1029, 6: 978, 7: 1015, 8: 961, 9: 1029}\n",
      "First 20 Labels: [8, 5, 0, 6, 9, 2, 8, 3, 6, 2, 7, 4, 6, 9, 0, 0, 7, 3, 7, 2]\n",
      "\n",
      "Example of Image 5:\n",
      "Image - Min Value: 9 Max Value: 255\n",
      "Image - Shape: (32, 32, 3)\n",
      "Label - Label Id: 2 Name: bird\n"
     ]
    },
    {
     "data": {
      "image/png": "[encoded data removed]",
      "text/plain": [
       "<matplotlib.figure.Figure at 0x7f1594491630>"
      ]
     },
     "metadata": {
      "image/png": {
       "height": 250,
       "width": 253
      }
     },
     "output_type": "display_data"
    }
   ],
   "source": [
    "%matplotlib inline\n",
    "%config InlineBackend.figure_format = 'retina'\n",
    "\n",
    "import helper\n",
    "import numpy as np\n",
    "\n",
    "# Explore the dataset\n",
    "batch_id = 3\n",
    "sample_id = 5\n",
    "helper.display_stats(cifar10_dataset_folder_path, batch_id, sample_id)"
   ]
  },
  {
   "cell_type": "markdown",
   "metadata": {
    "deletable": true,
    "editable": true
   },
   "source": [
    "## Implement Preprocess Functions\n",
    "### Normalize\n",
    "In the cell below, implement the `normalize` function to take in image data, `x`, and return it as a normalized Numpy array. The values should be in the range of 0 to 1, inclusive.  The return object should be the same shape as `x`."
   ]
  },
  {
   "cell_type": "code",
   "execution_count": 3,
   "metadata": {
    "collapsed": false,
    "deletable": true,
    "editable": true
   },
   "outputs": [
    {
     "name": "stdout",
     "output_type": "stream",
     "text": [
      "Tests Passed\n"
     ]
    }
   ],
   "source": [
    "def normalize(x):\n",
    "    \"\"\"\n",
    "    Normalize a list of sample image data in the range of 0 to 1\n",
    "    : x: List of image data.  The image shape is (32, 32, 3)\n",
    "    : return: Numpy array of normalize data\n",
    "    \"\"\"\n",
    "    # TODO: Implement Function\n",
    "    image_data = x\n",
    "    a = 0\n",
    "    b = 1\n",
    "    grayscale_min = 0\n",
    "    grayscale_max = 255    \n",
    "    return a + ( ( (image_data - grayscale_min)*(b - a) )/( grayscale_max - grayscale_min ) )\n",
    "\n",
    "\n",
    "\"\"\"\n",
    "DON'T MODIFY ANYTHING IN THIS CELL THAT IS BELOW THIS LINE\n",
    "\"\"\"\n",
    "tests.test_normalize(normalize)"
   ]
  },
  {
   "cell_type": "markdown",
   "metadata": {
    "deletable": true,
    "editable": true
   },
   "source": [
    "### One-hot encode\n",
    "Just like the previous code cell, you'll be implementing a function for preprocessing.  This time, you'll implement the `one_hot_encode` function. The input, `x`, are a list of labels.  Implement the function to return the list of labels as One-Hot encoded Numpy array.  The possible values for labels are 0 to 9. The one-hot encoding function should return the same encoding for each value between each call to `one_hot_encode`.  Make sure to save the map of encodings outside the function.\n",
    "\n",
    "Hint: Don't reinvent the wheel."
   ]
  },
  {
   "cell_type": "code",
   "execution_count": 4,
   "metadata": {
    "collapsed": false,
    "deletable": true,
    "editable": true
   },
   "outputs": [
    {
     "name": "stdout",
     "output_type": "stream",
     "text": [
      "Tests Passed\n"
     ]
    }
   ],
   "source": [
    "from sklearn import preprocessing\n",
    "\n",
    "def one_hot_encode(x):\n",
    "    \"\"\"\n",
    "    One hot encode a list of sample labels. Return a one-hot encoded vector for each label.\n",
    "    : x: List of sample Labels\n",
    "    : return: Numpy array of one-hot encoded labels\n",
    "    \"\"\"\n",
    "    \n",
    "    lb = preprocessing.LabelBinarizer()\n",
    "    lb.fit(x)\n",
    "    lb.classes_ = [0, 1, 2, 3, 4, 5, 6, 7, 8, 9]\n",
    "    return lb.transform(x)\n",
    "\n",
    "\"\"\"\n",
    "DON'T MODIFY ANYTHING IN THIS CELL THAT IS BELOW THIS LINE\n",
    "\"\"\"\n",
    "tests.test_one_hot_encode(one_hot_encode)"
   ]
  },
  {
   "cell_type": "markdown",
   "metadata": {
    "deletable": true,
    "editable": true
   },
   "source": [
    "### Randomize Data\n",
    "As you saw from exploring the data above, the order of the samples are randomized.  It doesn't hurt to randomize it again, but you don't need to for this dataset."
   ]
  },
  {
   "cell_type": "markdown",
   "metadata": {
    "deletable": true,
    "editable": true
   },
   "source": [
    "## Preprocess all the data and save it\n",
    "Running the code cell below will preprocess all the CIFAR-10 data and save it to file. The code below also uses 10% of the training data for validation."
   ]
  },
  {
   "cell_type": "code",
   "execution_count": 5,
   "metadata": {
    "collapsed": false,
    "deletable": true,
    "editable": true
   },
   "outputs": [],
   "source": [
    "\"\"\"\n",
    "DON'T MODIFY ANYTHING IN THIS CELL\n",
    "\"\"\"\n",
    "# Preprocess Training, Validation, and Testing Data\n",
    "helper.preprocess_and_save_data(cifar10_dataset_folder_path, normalize, one_hot_encode)"
   ]
  },
  {
   "cell_type": "markdown",
   "metadata": {
    "deletable": true,
    "editable": true
   },
   "source": [
    "# Check Point\n",
    "This is your first checkpoint.  If you ever decide to come back to this notebook or have to restart the notebook, you can start from here.  The preprocessed data has been saved to disk."
   ]
  },
  {
   "cell_type": "code",
   "execution_count": 37,
   "metadata": {
    "collapsed": true,
    "deletable": true,
    "editable": true
   },
   "outputs": [],
   "source": [
    "\"\"\"\n",
    "DON'T MODIFY ANYTHING IN THIS CELL\n",
    "\"\"\"\n",
    "import pickle\n",
    "import problem_unittests as tests\n",
    "import helper\n",
    "\n",
    "# Load the Preprocessed Validation data\n",
    "valid_features, valid_labels = pickle.load(open('preprocess_validation.p', mode='rb'))"
   ]
  },
  {
   "cell_type": "markdown",
   "metadata": {
    "deletable": true,
    "editable": true
   },
   "source": [
    "## Build the network\n",
    "For the neural network, you'll build each layer into a function.  Most of the code you've seen has been outside of functions. To test your code more thoroughly, we require that you put each layer in a function.  This allows us to give you better feedback and test for simple mistakes using our unittests before you submit your project.\n",
    "\n",
    ">**Note:** If you're finding it hard to dedicate enough time for this course each week, we've provided a small shortcut to this part of the project. In the next couple of problems, you'll have the option to use classes from the [TensorFlow Layers](https://www.tensorflow.org/api_docs/python/tf/layers) or [TensorFlow Layers (contrib)](https://www.tensorflow.org/api_guides/python/contrib.layers) packages to build each layer, except the layers you build in the \"Convolutional and Max Pooling Layer\" section.  TF Layers is similar to Keras's and TFLearn's abstraction to layers, so it's easy to pickup.\n",
    "\n",
    ">However, if you would like to get the most out of this course, try to solve all the problems _without_ using anything from the TF Layers packages. You **can** still use classes from other packages that happen to have the same name as ones you find in TF Layers! For example, instead of using the TF Layers version of the `conv2d` class, [tf.layers.conv2d](https://www.tensorflow.org/api_docs/python/tf/layers/conv2d), you would want to use the TF Neural Network version of `conv2d`, [tf.nn.conv2d](https://www.tensorflow.org/api_docs/python/tf/nn/conv2d). \n",
    "\n",
    "Let's begin!\n",
    "\n",
    "### Input\n",
    "The neural network needs to read the image data, one-hot encoded labels, and dropout keep probability. Implement the following functions\n",
    "* Implement `neural_net_image_input`\n",
    " * Return a [TF Placeholder](https://www.tensorflow.org/api_docs/python/tf/placeholder)\n",
    " * Set the shape using `image_shape` with batch size set to `None`.\n",
    " * Name the TensorFlow placeholder \"x\" using the TensorFlow `name` parameter in the [TF Placeholder](https://www.tensorflow.org/api_docs/python/tf/placeholder).\n",
    "* Implement `neural_net_label_input`\n",
    " * Return a [TF Placeholder](https://www.tensorflow.org/api_docs/python/tf/placeholder)\n",
    " * Set the shape using `n_classes` with batch size set to `None`.\n",
    " * Name the TensorFlow placeholder \"y\" using the TensorFlow `name` parameter in the [TF Placeholder](https://www.tensorflow.org/api_docs/python/tf/placeholder).\n",
    "* Implement `neural_net_keep_prob_input`\n",
    " * Return a [TF Placeholder](https://www.tensorflow.org/api_docs/python/tf/placeholder) for dropout keep probability.\n",
    " * Name the TensorFlow placeholder \"keep_prob\" using the TensorFlow `name` parameter in the [TF Placeholder](https://www.tensorflow.org/api_docs/python/tf/placeholder).\n",
    "\n",
    "These names will be used at the end of the project to load your saved model.\n",
    "\n",
    "Note: `None` for shapes in TensorFlow allow for a dynamic size."
   ]
  },
  {
   "cell_type": "code",
   "execution_count": 38,
   "metadata": {
    "collapsed": false,
    "deletable": true,
    "editable": true
   },
   "outputs": [
    {
     "name": "stdout",
     "output_type": "stream",
     "text": [
      "Image Input Tests Passed.\n",
      "Label Input Tests Passed.\n",
      "Keep Prob Tests Passed.\n"
     ]
    }
   ],
   "source": [
    "import tensorflow as tf\n",
    "\n",
    "def neural_net_image_input(image_shape):\n",
    "    \"\"\"\n",
    "    Return a Tensor for a bach of image input\n",
    "    : image_shape: Shape of the images\n",
    "    : return: Tensor for image input.\n",
    "    \"\"\"\n",
    "    # TODO: Implement Function\n",
    "    return tf.placeholder(tf.float32, shape=[None, *image_shape], name='x')\n",
    "    \n",
    "\n",
    "\n",
    "def neural_net_label_input(n_classes):\n",
    "    \"\"\"\n",
    "    Return a Tensor for a batch of label input\n",
    "    : n_classes: Number of classes\n",
    "    : return: Tensor for label input.\n",
    "    \"\"\"\n",
    "    # TODO: Implement Function\n",
    "    return tf.placeholder(tf.float32, shape=[None, n_classes], name='y')\n",
    "    \n",
    "\n",
    "\n",
    "def neural_net_keep_prob_input():\n",
    "    \"\"\"\n",
    "    Return a Tensor for keep probability\n",
    "    : return: Tensor for keep probability.\n",
    "    \"\"\"\n",
    "    # TODO: Implement Function\n",
    "    return tf.placeholder(tf.float32, shape=None, name='keep_prob')\n",
    "\n",
    "\n",
    "\"\"\"\n",
    "DON'T MODIFY ANYTHING IN THIS CELL THAT IS BELOW THIS LINE\n",
    "\"\"\"\n",
    "tf.reset_default_graph()\n",
    "tests.test_nn_image_inputs(neural_net_image_input)\n",
    "tests.test_nn_label_inputs(neural_net_label_input)\n",
    "tests.test_nn_keep_prob_inputs(neural_net_keep_prob_input)"
   ]
  },
  {
   "cell_type": "markdown",
   "metadata": {
    "deletable": true,
    "editable": true
   },
   "source": [
    "### Convolution and Max Pooling Layer\n",
    "Convolution layers have a lot of success with images. For this code cell, you should implement the function `conv2d_maxpool` to apply convolution then max pooling:\n",
    "* Create the weight and bias using `conv_ksize`, `conv_num_outputs` and the shape of `x_tensor`.\n",
    "* Apply a convolution to `x_tensor` using weight and `conv_strides`.\n",
    " * We recommend you use same padding, but you're welcome to use any padding.\n",
    "* Add bias\n",
    "* Add a nonlinear activation to the convolution.\n",
    "* Apply Max Pooling using `pool_ksize` and `pool_strides`.\n",
    " * We recommend you use same padding, but you're welcome to use any padding.\n",
    "\n",
    "**Note:** You **can't** use [TensorFlow Layers](https://www.tensorflow.org/api_docs/python/tf/layers) or [TensorFlow Layers (contrib)](https://www.tensorflow.org/api_guides/python/contrib.layers) for **this** layer, but you can still use TensorFlow's [Neural Network](https://www.tensorflow.org/api_docs/python/tf/nn) package. You may still use the shortcut option for all the **other** layers."
   ]
  },
  {
   "cell_type": "code",
   "execution_count": 39,
   "metadata": {
    "collapsed": false,
    "deletable": true,
    "editable": true
   },
   "outputs": [
    {
     "name": "stdout",
     "output_type": "stream",
     "text": [
      "Tests Passed\n"
     ]
    }
   ],
   "source": [
    "def conv2d_maxpool(x_tensor, conv_num_outputs, conv_ksize, conv_strides, pool_ksize, pool_strides):\n",
    "    \"\"\"\n",
    "    Apply convolution then max pooling to x_tensor\n",
    "    :param x_tensor: TensorFlow Tensor\n",
    "    :param conv_num_outputs: Number of outputs for the convolutional layer\n",
    "    :param conv_ksize: kernal size 2-D Tuple for the convolutional layer\n",
    "    :param conv_strides: Stride 2-D Tuple for convolution\n",
    "    :param pool_ksize: kernal size 2-D Tuple for pool\n",
    "    :param pool_strides: Stride 2-D Tuple for pool\n",
    "    : return: A tensor that represents convolution and max pooling of x_tensor\n",
    "    \"\"\"\n",
    "    # TODO: Implement Function\n",
    "    # Output depth\n",
    "    k_output = conv_num_outputs\n",
    "    \n",
    "    #print(conv_strides)\n",
    "    \n",
    "    # Image Properties\n",
    "    image_width = x_tensor.get_shape().as_list()[1]\n",
    "    image_height = x_tensor.get_shape().as_list()[2]\n",
    "    color_channels = x_tensor.get_shape().as_list()[3]\n",
    "    \n",
    "\n",
    "    # Convolution filter\n",
    "    filter_size_width = conv_ksize[0]\n",
    "    filter_size_height = conv_ksize[1]\n",
    "    \n",
    "    \n",
    "    # Input/Image\n",
    "    #input = x_tensor\n",
    "\n",
    "    # Weight and bias\n",
    "    weight = tf.Variable(tf.truncated_normal([filter_size_height, filter_size_width, color_channels, k_output]))\n",
    "    bias = tf.Variable(tf.zeros(k_output))\n",
    "\n",
    "    # Apply Convolution\n",
    "    conv_layer = tf.nn.conv2d(x_tensor, weight, strides=[1, conv_strides[0], conv_strides[1], 1], padding='SAME')\n",
    "    # Add bias\n",
    "    conv_layer = tf.nn.bias_add(conv_layer, bias)\n",
    "    # Apply activation function\n",
    "    conv_layer = tf.nn.relu(conv_layer)    \n",
    "    \n",
    "    # Implement maxpooling\n",
    "    conv_layer = tf.nn.max_pool(conv_layer,ksize=[1, pool_ksize[0], pool_ksize[1], 1],strides=[1, pool_strides[0], pool_strides[1], 1],padding='SAME')    \n",
    "   \n",
    "    return conv_layer\n",
    "    \n",
    "\"\"\"\n",
    "DON'T MODIFY ANYTHING IN THIS CELL THAT IS BELOW THIS LINE\n",
    "\"\"\"\n",
    "tests.test_con_pool(conv2d_maxpool)"
   ]
  },
  {
   "cell_type": "markdown",
   "metadata": {
    "deletable": true,
    "editable": true
   },
   "source": [
    "### Flatten Layer\n",
    "Implement the `flatten` function to change the dimension of `x_tensor` from a 4-D tensor to a 2-D tensor.  The output should be the shape (*Batch Size*, *Flattened Image Size*). Shortcut option: you can use classes from the [TensorFlow Layers](https://www.tensorflow.org/api_docs/python/tf/layers) or [TensorFlow Layers (contrib)](https://www.tensorflow.org/api_guides/python/contrib.layers) packages for this layer. For more of a challenge, only use other TensorFlow packages."
   ]
  },
  {
   "cell_type": "code",
   "execution_count": 40,
   "metadata": {
    "collapsed": false,
    "deletable": true,
    "editable": true
   },
   "outputs": [
    {
     "name": "stdout",
     "output_type": "stream",
     "text": [
      "Tests Passed\n"
     ]
    }
   ],
   "source": [
    "def flatten(x_tensor):\n",
    "    \"\"\"\n",
    "    Flatten x_tensor to (Batch Size, Flattened Image Size)\n",
    "    : x_tensor: A tensor of size (Batch Size, ...), where ... are the image dimensions.\n",
    "    : return: A tensor of size (Batch Size, Flattened Image Size).\n",
    "    \"\"\"\n",
    "    # TODO: Implement Function\n",
    "    return tf.contrib.layers.flatten(x_tensor)\n",
    "    \n",
    "\n",
    "\n",
    "\"\"\"\n",
    "DON'T MODIFY ANYTHING IN THIS CELL THAT IS BELOW THIS LINE\n",
    "\"\"\"\n",
    "tests.test_flatten(flatten)"
   ]
  },
  {
   "cell_type": "markdown",
   "metadata": {
    "deletable": true,
    "editable": true
   },
   "source": [
    "### Fully-Connected Layer\n",
    "Implement the `fully_conn` function to apply a fully connected layer to `x_tensor` with the shape (*Batch Size*, *num_outputs*). Shortcut option: you can use classes from the [TensorFlow Layers](https://www.tensorflow.org/api_docs/python/tf/layers) or [TensorFlow Layers (contrib)](https://www.tensorflow.org/api_guides/python/contrib.layers) packages for this layer. For more of a challenge, only use other TensorFlow packages."
   ]
  },
  {
   "cell_type": "code",
   "execution_count": 41,
   "metadata": {
    "collapsed": false,
    "deletable": true,
    "editable": true
   },
   "outputs": [
    {
     "name": "stdout",
     "output_type": "stream",
     "text": [
      "Tests Passed\n"
     ]
    }
   ],
   "source": [
    "def fully_conn(x_tensor, num_outputs):\n",
    "    \"\"\"\n",
    "    Apply a fully connected layer to x_tensor using weight and bias\n",
    "    : x_tensor: A 2-D tensor where the first dimension is batch size.\n",
    "    : num_outputs: The number of output that the new tensor should be.\n",
    "    : return: A 2-D tensor where the second dimension is num_outputs.\n",
    "    \"\"\"\n",
    "    # TODO: Implement Function\n",
    "\n",
    "    return  tf.contrib.layers.fully_connected(inputs=x_tensor, num_outputs=num_outputs, activation_fn=tf.nn.relu)\n",
    "\n",
    "\n",
    "\"\"\"\n",
    "DON'T MODIFY ANYTHING IN THIS CELL THAT IS BELOW THIS LINE\n",
    "\"\"\"\n",
    "tests.test_fully_conn(fully_conn)"
   ]
  },
  {
   "cell_type": "markdown",
   "metadata": {
    "deletable": true,
    "editable": true
   },
   "source": [
    "### Output Layer\n",
    "Implement the `output` function to apply a fully connected layer to `x_tensor` with the shape (*Batch Size*, *num_outputs*). Shortcut option: you can use classes from the [TensorFlow Layers](https://www.tensorflow.org/api_docs/python/tf/layers) or [TensorFlow Layers (contrib)](https://www.tensorflow.org/api_guides/python/contrib.layers) packages for this layer. For more of a challenge, only use other TensorFlow packages.\n",
    "\n",
    "**Note:** Activation, softmax, or cross entropy should **not** be applied to this."
   ]
  },
  {
   "cell_type": "code",
   "execution_count": 42,
   "metadata": {
    "collapsed": false,
    "deletable": true,
    "editable": true
   },
   "outputs": [
    {
     "name": "stdout",
     "output_type": "stream",
     "text": [
      "Tests Passed\n"
     ]
    }
   ],
   "source": [
    "def output(x_tensor, num_outputs):\n",
    "    \"\"\"\n",
    "    Apply a output layer to x_tensor using weight and bias\n",
    "    : x_tensor: A 2-D tensor where the first dimension is batch size.\n",
    "    : num_outputs: The number of output that the new tensor should be.\n",
    "    : return: A 2-D tensor where the second dimension is num_outputs.\n",
    "    \"\"\"\n",
    "    # TODO: Implement Function\n",
    "    return tf.contrib.layers.fully_connected(inputs=x_tensor, num_outputs=num_outputs, activation_fn=tf.sigmoid)\n",
    "\n",
    "\n",
    "\"\"\"\n",
    "DON'T MODIFY ANYTHING IN THIS CELL THAT IS BELOW THIS LINE\n",
    "\"\"\"\n",
    "tests.test_output(output)"
   ]
  },
  {
   "cell_type": "markdown",
   "metadata": {
    "deletable": true,
    "editable": true
   },
   "source": [
    "### Create Convolutional Model\n",
    "Implement the function `conv_net` to create a convolutional neural network model. The function takes in a batch of images, `x`, and outputs logits.  Use the layers you created above to create this model:\n",
    "\n",
    "* Apply 1, 2, or 3 Convolution and Max Pool layers\n",
    "* Apply a Flatten Layer\n",
    "* Apply 1, 2, or 3 Fully Connected Layers\n",
    "* Apply an Output Layer\n",
    "* Return the output\n",
    "* Apply [TensorFlow's Dropout](https://www.tensorflow.org/api_docs/python/tf/nn/dropout) to one or more layers in the model using `keep_prob`. "
   ]
  },
  {
   "cell_type": "code",
   "execution_count": 43,
   "metadata": {
    "collapsed": false,
    "deletable": true,
    "editable": true
   },
   "outputs": [
    {
     "name": "stdout",
     "output_type": "stream",
     "text": [
      "Neural Network Built!\n"
     ]
    }
   ],
   "source": [
    "def conv_net(x, keep_prob):\n",
    "    \"\"\"\n",
    "    Create a convolutional neural network model\n",
    "    : x: Placeholder tensor that holds image data.\n",
    "    : keep_prob: Placeholder tensor that hold dropout keep probability.\n",
    "    : return: Tensor that represents logits\n",
    "    \"\"\"\n",
    "    # TODO: Apply 1, 2, or 3 Convolution and Max Pool layers\n",
    "    #    Play around with different number of outputs, kernel size and stride\n",
    "    # Function Definition from Above:\n",
    "    layer1 = conv2d_maxpool(x, 10, (3,3), (1,1), (3,3), (2,2))\n",
    "    #layer2 = conv2d_maxpool(layer1, 20, (3,3), (1,1), (3,3), (2,2))\n",
    "    \n",
    "    conv_layer = layer1\n",
    "    \n",
    "    # TODO: Apply a Flatten Layer\n",
    "    # Function Definition from Above:\n",
    "    conv_layerflat = flatten(conv_layer)\n",
    "\n",
    "    # Apply some dropout\n",
    "    layer_dropout = tf.nn.dropout(conv_layerflat, keep_prob)     \n",
    "    \n",
    "    # TODO: Apply 1, 2, or 3 Fully Connected Layers\n",
    "    #    Play around with different number of outputs\n",
    "    # Function Definition from Above:\n",
    "    connected_layer = fully_conn(layer_dropout, 64)\n",
    "\n",
    "    \n",
    "    # TODO: Apply an Output Layer\n",
    "    #    Set this to the number of classes\n",
    "    # Function Definition from Above:\n",
    "    output_layer = output(connected_layer, 10)\n",
    "    \n",
    "    \n",
    "    # TODO: return output\n",
    "    return output_layer\n",
    "\n",
    "\n",
    "\"\"\"\n",
    "DON'T MODIFY ANYTHING IN THIS CELL THAT IS BELOW THIS LINE\n",
    "\"\"\"\n",
    "\n",
    "##############################\n",
    "## Build the Neural Network ##\n",
    "##############################\n",
    "\n",
    "# Remove previous weights, bias, inputs, etc..\n",
    "tf.reset_default_graph()\n",
    "\n",
    "# Inputs\n",
    "x = neural_net_image_input((32, 32, 3))\n",
    "y = neural_net_label_input(10)\n",
    "keep_prob = neural_net_keep_prob_input()\n",
    "\n",
    "# Model\n",
    "logits = conv_net(x, keep_prob)\n",
    "\n",
    "# Name logits Tensor, so that is can be loaded from disk after training\n",
    "logits = tf.identity(logits, name='logits')\n",
    "\n",
    "# Loss and Optimizer\n",
    "cost = tf.reduce_mean(tf.nn.softmax_cross_entropy_with_logits(logits=logits, labels=y))\n",
    "optimizer = tf.train.AdamOptimizer().minimize(cost)\n",
    "\n",
    "# Accuracy\n",
    "correct_pred = tf.equal(tf.argmax(logits, 1), tf.argmax(y, 1))\n",
    "accuracy = tf.reduce_mean(tf.cast(correct_pred, tf.float32), name='accuracy')\n",
    "\n",
    "tests.test_conv_net(conv_net)"
   ]
  },
  {
   "cell_type": "markdown",
   "metadata": {
    "deletable": true,
    "editable": true
   },
   "source": [
    "## Train the Neural Network\n",
    "### Single Optimization\n",
    "Implement the function `train_neural_network` to do a single optimization.  The optimization should use `optimizer` to optimize in `session` with a `feed_dict` of the following:\n",
    "* `x` for image input\n",
    "* `y` for labels\n",
    "* `keep_prob` for keep probability for dropout\n",
    "\n",
    "This function will be called for each batch, so `tf.global_variables_initializer()` has already been called.\n",
    "\n",
    "Note: Nothing needs to be returned. This function is only optimizing the neural network."
   ]
  },
  {
   "cell_type": "code",
   "execution_count": 44,
   "metadata": {
    "collapsed": false,
    "deletable": true,
    "editable": true
   },
   "outputs": [
    {
     "name": "stdout",
     "output_type": "stream",
     "text": [
      "Tests Passed\n"
     ]
    }
   ],
   "source": [
    "def train_neural_network(session, optimizer, keep_probability, feature_batch, label_batch):\n",
    "    \"\"\"\n",
    "    Optimize the session on a batch of images and labels\n",
    "    : session: Current TensorFlow session\n",
    "    : optimizer: TensorFlow optimizer function\n",
    "    : keep_probability: keep probability\n",
    "    : feature_batch: Batch of Numpy image data\n",
    "    : label_batch: Batch of Numpy label data\n",
    "    \"\"\"\n",
    "    # TODO: Implement Function\n",
    "    session.run(optimizer, feed_dict = {x: feature_batch,y: label_batch,keep_prob: keep_probability})\n",
    "    \n",
    "\n",
    "\n",
    "\"\"\"\n",
    "DON'T MODIFY ANYTHING IN THIS CELL THAT IS BELOW THIS LINE\n",
    "\"\"\"\n",
    "tests.test_train_nn(train_neural_network)"
   ]
  },
  {
   "cell_type": "markdown",
   "metadata": {
    "deletable": true,
    "editable": true
   },
   "source": [
    "### Show Stats\n",
    "Implement the function `print_stats` to print loss and validation accuracy.  Use the global variables `valid_features` and `valid_labels` to calculate validation accuracy.  Use a keep probability of `1.0` to calculate the loss and validation accuracy."
   ]
  },
  {
   "cell_type": "code",
   "execution_count": 45,
   "metadata": {
    "collapsed": false,
    "deletable": true,
    "editable": true
   },
   "outputs": [],
   "source": [
    "def print_stats(session, feature_batch, label_batch, cost, accuracy):\n",
    "    \"\"\"\n",
    "    Print information about loss and validation accuracy\n",
    "    : session: Current TensorFlow session\n",
    "    : feature_batch: Batch of Numpy image data\n",
    "    : label_batch: Batch of Numpy label data\n",
    "    : cost: TensorFlow cost function\n",
    "    : accuracy: TensorFlow accuracy function\n",
    "    \"\"\"\n",
    "    # TODO: Implement Function\n",
    "    loss = sess.run(cost, feed_dict={x: feature_batch, y: label_batch, keep_prob: 1})\n",
    "    valid_acc = sess.run(accuracy, feed_dict={x: valid_features, y: valid_labels,  keep_prob: 1})\n",
    "    print('loss', loss, 'accuracy', valid_acc)\n",
    "    "
   ]
  },
  {
   "cell_type": "markdown",
   "metadata": {
    "deletable": true,
    "editable": true
   },
   "source": [
    "### Hyperparameters\n",
    "Tune the following parameters:\n",
    "* Set `epochs` to the number of iterations until the network stops learning or start overfitting\n",
    "* Set `batch_size` to the highest number that your machine has memory for.  Most people set them to common sizes of memory:\n",
    " * 64\n",
    " * 128\n",
    " * 256\n",
    " * ...\n",
    "* Set `keep_probability` to the probability of keeping a node using dropout"
   ]
  },
  {
   "cell_type": "code",
   "execution_count": 46,
   "metadata": {
    "collapsed": true,
    "deletable": true,
    "editable": true
   },
   "outputs": [],
   "source": [
    "# TODO: Tune Parameters\n",
    "epochs = 100\n",
    "batch_size = 64\n",
    "keep_probability = 0.3"
   ]
  },
  {
   "cell_type": "markdown",
   "metadata": {
    "deletable": true,
    "editable": true
   },
   "source": [
    "### Train on a Single CIFAR-10 Batch\n",
    "Instead of training the neural network on all the CIFAR-10 batches of data, let's use a single batch. This should save time while you iterate on the model to get a better accuracy.  Once the final validation accuracy is 50% or greater, run the model on all the data in the next section."
   ]
  },
  {
   "cell_type": "code",
   "execution_count": 47,
   "metadata": {
    "collapsed": false,
    "deletable": true,
    "editable": true
   },
   "outputs": [
    {
     "name": "stdout",
     "output_type": "stream",
     "text": [
      "Checking the Training on a Single Batch...\n",
      "Epoch  1, CIFAR-10 Batch 1:  loss 2.19022 accuracy 0.158\n",
      "Epoch  2, CIFAR-10 Batch 1:  loss 2.1536 accuracy 0.2652\n",
      "Epoch  3, CIFAR-10 Batch 1:  loss 2.07332 accuracy 0.3574\n",
      "Epoch  4, CIFAR-10 Batch 1:  loss 2.04207 accuracy 0.3806\n",
      "Epoch  5, CIFAR-10 Batch 1:  loss 2.03458 accuracy 0.3984\n",
      "Epoch  6, CIFAR-10 Batch 1:  loss 2.00122 accuracy 0.3982\n",
      "Epoch  7, CIFAR-10 Batch 1:  loss 1.94762 accuracy 0.4366\n",
      "Epoch  8, CIFAR-10 Batch 1:  loss 1.95326 accuracy 0.4446\n",
      "Epoch  9, CIFAR-10 Batch 1:  loss 1.967 accuracy 0.4414\n",
      "Epoch 10, CIFAR-10 Batch 1:  loss 1.89532 accuracy 0.4408\n",
      "Epoch 11, CIFAR-10 Batch 1:  loss 1.93059 accuracy 0.4576\n",
      "Epoch 12, CIFAR-10 Batch 1:  loss 1.95216 accuracy 0.4674\n",
      "Epoch 13, CIFAR-10 Batch 1:  loss 1.94568 accuracy 0.4788\n",
      "Epoch 14, CIFAR-10 Batch 1:  loss 1.93215 accuracy 0.4704\n",
      "Epoch 15, CIFAR-10 Batch 1:  loss 1.94133 accuracy 0.4728\n",
      "Epoch 16, CIFAR-10 Batch 1:  loss 1.90763 accuracy 0.4868\n",
      "Epoch 17, CIFAR-10 Batch 1:  loss 1.90141 accuracy 0.4862\n",
      "Epoch 18, CIFAR-10 Batch 1:  loss 1.90958 accuracy 0.4846\n",
      "Epoch 19, CIFAR-10 Batch 1:  loss 1.91838 accuracy 0.489\n",
      "Epoch 20, CIFAR-10 Batch 1:  loss 1.91508 accuracy 0.491\n",
      "Epoch 21, CIFAR-10 Batch 1:  loss 1.88852 accuracy 0.479\n",
      "Epoch 22, CIFAR-10 Batch 1:  loss 1.8746 accuracy 0.4872\n",
      "Epoch 23, CIFAR-10 Batch 1:  loss 1.86507 accuracy 0.4946\n",
      "Epoch 24, CIFAR-10 Batch 1:  loss 1.86593 accuracy 0.4806\n",
      "Epoch 25, CIFAR-10 Batch 1:  loss 1.85433 accuracy 0.4936\n",
      "Epoch 26, CIFAR-10 Batch 1:  loss 1.84962 accuracy 0.5032\n",
      "Epoch 27, CIFAR-10 Batch 1:  loss 1.83832 accuracy 0.4984\n",
      "Epoch 28, CIFAR-10 Batch 1:  loss 1.85299 accuracy 0.4976\n",
      "Epoch 29, CIFAR-10 Batch 1:  loss 1.85484 accuracy 0.498\n",
      "Epoch 30, CIFAR-10 Batch 1:  loss 1.83856 accuracy 0.494\n",
      "Epoch 31, CIFAR-10 Batch 1:  loss 1.84698 accuracy 0.498\n",
      "Epoch 32, CIFAR-10 Batch 1:  loss 1.81809 accuracy 0.497\n",
      "Epoch 33, CIFAR-10 Batch 1:  loss 1.83095 accuracy 0.5046\n",
      "Epoch 34, CIFAR-10 Batch 1:  loss 1.84484 accuracy 0.4938\n",
      "Epoch 35, CIFAR-10 Batch 1:  loss 1.82776 accuracy 0.5046\n",
      "Epoch 36, CIFAR-10 Batch 1:  loss 1.81076 accuracy 0.5\n",
      "Epoch 37, CIFAR-10 Batch 1:  loss 1.81461 accuracy 0.5092\n",
      "Epoch 38, CIFAR-10 Batch 1:  loss 1.81867 accuracy 0.5068\n",
      "Epoch 39, CIFAR-10 Batch 1:  loss 1.79905 accuracy 0.5022\n",
      "Epoch 40, CIFAR-10 Batch 1:  loss 1.8039 accuracy 0.5094\n",
      "Epoch 41, CIFAR-10 Batch 1:  loss 1.81015 accuracy 0.5076\n",
      "Epoch 42, CIFAR-10 Batch 1:  loss 1.81062 accuracy 0.508\n",
      "Epoch 43, CIFAR-10 Batch 1:  loss 1.78846 accuracy 0.5126\n",
      "Epoch 44, CIFAR-10 Batch 1:  loss 1.80517 accuracy 0.5166\n",
      "Epoch 45, CIFAR-10 Batch 1:  loss 1.78435 accuracy 0.52\n",
      "Epoch 46, CIFAR-10 Batch 1:  loss 1.78741 accuracy 0.5172\n",
      "Epoch 47, CIFAR-10 Batch 1:  loss 1.78441 accuracy 0.5122\n",
      "Epoch 48, CIFAR-10 Batch 1:  loss 1.79405 accuracy 0.5106\n",
      "Epoch 49, CIFAR-10 Batch 1:  loss 1.78892 accuracy 0.5148\n",
      "Epoch 50, CIFAR-10 Batch 1:  loss 1.77627 accuracy 0.5144\n",
      "Epoch 51, CIFAR-10 Batch 1:  loss 1.78379 accuracy 0.5138\n",
      "Epoch 52, CIFAR-10 Batch 1:  loss 1.79246 accuracy 0.5216\n",
      "Epoch 53, CIFAR-10 Batch 1:  loss 1.76613 accuracy 0.5154\n",
      "Epoch 54, CIFAR-10 Batch 1:  loss 1.77666 accuracy 0.519\n",
      "Epoch 55, CIFAR-10 Batch 1:  loss 1.77437 accuracy 0.5174\n",
      "Epoch 56, CIFAR-10 Batch 1:  loss 1.76193 accuracy 0.517\n",
      "Epoch 57, CIFAR-10 Batch 1:  loss 1.76261 accuracy 0.5208\n",
      "Epoch 58, CIFAR-10 Batch 1:  loss 1.7619 accuracy 0.5214\n",
      "Epoch 59, CIFAR-10 Batch 1:  loss 1.77004 accuracy 0.5206\n",
      "Epoch 60, CIFAR-10 Batch 1:  loss 1.7682 accuracy 0.5162\n",
      "Epoch 61, CIFAR-10 Batch 1:  loss 1.7779 accuracy 0.519\n",
      "Epoch 62, CIFAR-10 Batch 1:  loss 1.77221 accuracy 0.5174\n",
      "Epoch 63, CIFAR-10 Batch 1:  loss 1.77583 accuracy 0.5196\n",
      "Epoch 64, CIFAR-10 Batch 1:  loss 1.78259 accuracy 0.5232\n",
      "Epoch 65, CIFAR-10 Batch 1:  loss 1.77781 accuracy 0.5206\n",
      "Epoch 66, CIFAR-10 Batch 1:  loss 1.76599 accuracy 0.5242\n",
      "Epoch 67, CIFAR-10 Batch 1:  loss 1.76369 accuracy 0.5254\n",
      "Epoch 68, CIFAR-10 Batch 1:  loss 1.76013 accuracy 0.5302\n",
      "Epoch 69, CIFAR-10 Batch 1:  loss 1.76248 accuracy 0.525\n",
      "Epoch 70, CIFAR-10 Batch 1:  loss 1.75657 accuracy 0.5258\n",
      "Epoch 71, CIFAR-10 Batch 1:  loss 1.75512 accuracy 0.5308\n",
      "Epoch 72, CIFAR-10 Batch 1:  loss 1.77398 accuracy 0.5244\n",
      "Epoch 73, CIFAR-10 Batch 1:  loss 1.75947 accuracy 0.5332\n",
      "Epoch 74, CIFAR-10 Batch 1:  loss 1.7606 accuracy 0.5338\n",
      "Epoch 75, CIFAR-10 Batch 1:  loss 1.75673 accuracy 0.5304\n",
      "Epoch 76, CIFAR-10 Batch 1:  loss 1.76901 accuracy 0.5346\n",
      "Epoch 77, CIFAR-10 Batch 1:  loss 1.76022 accuracy 0.5308\n",
      "Epoch 78, CIFAR-10 Batch 1:  loss 1.76322 accuracy 0.5216\n",
      "Epoch 79, CIFAR-10 Batch 1:  loss 1.75277 accuracy 0.5316\n",
      "Epoch 80, CIFAR-10 Batch 1:  loss 1.74759 accuracy 0.5268\n",
      "Epoch 81, CIFAR-10 Batch 1:  loss 1.75771 accuracy 0.5318\n",
      "Epoch 82, CIFAR-10 Batch 1:  loss 1.75352 accuracy 0.5384\n",
      "Epoch 83, CIFAR-10 Batch 1:  loss 1.7566 accuracy 0.515\n",
      "Epoch 84, CIFAR-10 Batch 1:  loss 1.7507 accuracy 0.5316\n",
      "Epoch 85, CIFAR-10 Batch 1:  loss 1.76154 accuracy 0.5228\n",
      "Epoch 86, CIFAR-10 Batch 1:  loss 1.74926 accuracy 0.5248\n",
      "Epoch 87, CIFAR-10 Batch 1:  loss 1.73912 accuracy 0.529\n",
      "Epoch 88, CIFAR-10 Batch 1:  loss 1.73527 accuracy 0.5312\n",
      "Epoch 89, CIFAR-10 Batch 1:  loss 1.74411 accuracy 0.5322\n",
      "Epoch 90, CIFAR-10 Batch 1:  loss 1.7501 accuracy 0.5352\n",
      "Epoch 91, CIFAR-10 Batch 1:  loss 1.75266 accuracy 0.5374\n",
      "Epoch 92, CIFAR-10 Batch 1:  loss 1.74225 accuracy 0.534\n",
      "Epoch 93, CIFAR-10 Batch 1:  loss 1.74907 accuracy 0.5302\n",
      "Epoch 94, CIFAR-10 Batch 1:  loss 1.73729 accuracy 0.5306\n",
      "Epoch 95, CIFAR-10 Batch 1:  loss 1.73778 accuracy 0.534\n",
      "Epoch 96, CIFAR-10 Batch 1:  loss 1.74774 accuracy 0.5338\n",
      "Epoch 97, CIFAR-10 Batch 1:  loss 1.7376 accuracy 0.5284\n",
      "Epoch 98, CIFAR-10 Batch 1:  loss 1.7342 accuracy 0.5302\n",
      "Epoch 99, CIFAR-10 Batch 1:  loss 1.76445 accuracy 0.527\n",
      "Epoch 100, CIFAR-10 Batch 1:  loss 1.7295 accuracy 0.5288\n"
     ]
    }
   ],
   "source": [
    "\"\"\"\n",
    "DON'T MODIFY ANYTHING IN THIS CELL\n",
    "\"\"\"\n",
    "print('Checking the Training on a Single Batch...')\n",
    "with tf.Session() as sess:\n",
    "    # Initializing the variables\n",
    "    sess.run(tf.global_variables_initializer())\n",
    "    \n",
    "    # Training cycle\n",
    "    for epoch in range(epochs):\n",
    "        batch_i = 1\n",
    "        for batch_features, batch_labels in helper.load_preprocess_training_batch(batch_i, batch_size):\n",
    "            train_neural_network(sess, optimizer, keep_probability, batch_features, batch_labels)\n",
    "        print('Epoch {:>2}, CIFAR-10 Batch {}:  '.format(epoch + 1, batch_i), end='')\n",
    "        print_stats(sess, batch_features, batch_labels, cost, accuracy)"
   ]
  },
  {
   "cell_type": "markdown",
   "metadata": {
    "deletable": true,
    "editable": true
   },
   "source": [
    "### Fully Train the Model\n",
    "Now that you got a good accuracy with a single CIFAR-10 batch, try it with all five batches."
   ]
  },
  {
   "cell_type": "code",
   "execution_count": 48,
   "metadata": {
    "collapsed": false,
    "deletable": true,
    "editable": true
   },
   "outputs": [
    {
     "name": "stdout",
     "output_type": "stream",
     "text": [
      "Training...\n",
      "Epoch  1, CIFAR-10 Batch 1:  loss 2.26937 accuracy 0.1008\n",
      "Epoch  1, CIFAR-10 Batch 2:  loss 2.20154 accuracy 0.1058\n",
      "Epoch  1, CIFAR-10 Batch 3:  loss 2.0654 accuracy 0.124\n",
      "Epoch  1, CIFAR-10 Batch 4:  loss 2.01726 accuracy 0.1792\n",
      "Epoch  1, CIFAR-10 Batch 5:  loss 2.07142 accuracy 0.1682\n",
      "Epoch  2, CIFAR-10 Batch 1:  loss 2.0997 accuracy 0.1712\n",
      "Epoch  2, CIFAR-10 Batch 2:  loss 2.03256 accuracy 0.2348\n",
      "Epoch  2, CIFAR-10 Batch 3:  loss 1.94751 accuracy 0.373\n",
      "Epoch  2, CIFAR-10 Batch 4:  loss 1.95928 accuracy 0.3758\n",
      "Epoch  2, CIFAR-10 Batch 5:  loss 1.97382 accuracy 0.3878\n",
      "Epoch  3, CIFAR-10 Batch 1:  loss 2.03479 accuracy 0.3914\n",
      "Epoch  3, CIFAR-10 Batch 2:  loss 1.95826 accuracy 0.4004\n",
      "Epoch  3, CIFAR-10 Batch 3:  loss 1.84713 accuracy 0.4006\n",
      "Epoch  3, CIFAR-10 Batch 4:  loss 1.91372 accuracy 0.4086\n",
      "Epoch  3, CIFAR-10 Batch 5:  loss 1.9876 accuracy 0.4304\n",
      "Epoch  4, CIFAR-10 Batch 1:  loss 1.99909 accuracy 0.431\n",
      "Epoch  4, CIFAR-10 Batch 2:  loss 1.95586 accuracy 0.4226\n",
      "Epoch  4, CIFAR-10 Batch 3:  loss 1.81257 accuracy 0.4424\n",
      "Epoch  4, CIFAR-10 Batch 4:  loss 1.86471 accuracy 0.4194\n",
      "Epoch  4, CIFAR-10 Batch 5:  loss 1.94804 accuracy 0.4446\n",
      "Epoch  5, CIFAR-10 Batch 1:  loss 1.93246 accuracy 0.4542\n",
      "Epoch  5, CIFAR-10 Batch 2:  loss 1.9118 accuracy 0.4454\n",
      "Epoch  5, CIFAR-10 Batch 3:  loss 1.7879 accuracy 0.4556\n",
      "Epoch  5, CIFAR-10 Batch 4:  loss 1.86593 accuracy 0.4554\n",
      "Epoch  5, CIFAR-10 Batch 5:  loss 1.91888 accuracy 0.4582\n",
      "Epoch  6, CIFAR-10 Batch 1:  loss 1.90967 accuracy 0.4762\n",
      "Epoch  6, CIFAR-10 Batch 2:  loss 1.88133 accuracy 0.4794\n",
      "Epoch  6, CIFAR-10 Batch 3:  loss 1.76778 accuracy 0.462\n",
      "Epoch  6, CIFAR-10 Batch 4:  loss 1.84039 accuracy 0.4814\n",
      "Epoch  6, CIFAR-10 Batch 5:  loss 1.89049 accuracy 0.4754\n",
      "Epoch  7, CIFAR-10 Batch 1:  loss 1.88966 accuracy 0.498\n",
      "Epoch  7, CIFAR-10 Batch 2:  loss 1.87378 accuracy 0.4926\n",
      "Epoch  7, CIFAR-10 Batch 3:  loss 1.76724 accuracy 0.4922\n",
      "Epoch  7, CIFAR-10 Batch 4:  loss 1.84305 accuracy 0.4822\n",
      "Epoch  7, CIFAR-10 Batch 5:  loss 1.86053 accuracy 0.4898\n",
      "Epoch  8, CIFAR-10 Batch 1:  loss 1.85675 accuracy 0.5024\n",
      "Epoch  8, CIFAR-10 Batch 2:  loss 1.84739 accuracy 0.5112\n",
      "Epoch  8, CIFAR-10 Batch 3:  loss 1.77278 accuracy 0.4934\n",
      "Epoch  8, CIFAR-10 Batch 4:  loss 1.83072 accuracy 0.5064\n",
      "Epoch  8, CIFAR-10 Batch 5:  loss 1.84285 accuracy 0.4908\n",
      "Epoch  9, CIFAR-10 Batch 1:  loss 1.86071 accuracy 0.5144\n",
      "Epoch  9, CIFAR-10 Batch 2:  loss 1.83533 accuracy 0.5124\n",
      "Epoch  9, CIFAR-10 Batch 3:  loss 1.75795 accuracy 0.5064\n",
      "Epoch  9, CIFAR-10 Batch 4:  loss 1.82789 accuracy 0.5062\n",
      "Epoch  9, CIFAR-10 Batch 5:  loss 1.8394 accuracy 0.5058\n",
      "Epoch 10, CIFAR-10 Batch 1:  loss 1.8251 accuracy 0.5188\n",
      "Epoch 10, CIFAR-10 Batch 2:  loss 1.84122 accuracy 0.523\n",
      "Epoch 10, CIFAR-10 Batch 3:  loss 1.76779 accuracy 0.5114\n",
      "Epoch 10, CIFAR-10 Batch 4:  loss 1.80783 accuracy 0.5206\n",
      "Epoch 10, CIFAR-10 Batch 5:  loss 1.82707 accuracy 0.5176\n",
      "Epoch 11, CIFAR-10 Batch 1:  loss 1.85175 accuracy 0.5168\n",
      "Epoch 11, CIFAR-10 Batch 2:  loss 1.81227 accuracy 0.5224\n",
      "Epoch 11, CIFAR-10 Batch 3:  loss 1.74877 accuracy 0.5166\n",
      "Epoch 11, CIFAR-10 Batch 4:  loss 1.80136 accuracy 0.5264\n",
      "Epoch 11, CIFAR-10 Batch 5:  loss 1.82622 accuracy 0.5252\n",
      "Epoch 12, CIFAR-10 Batch 1:  loss 1.82326 accuracy 0.5198\n",
      "Epoch 12, CIFAR-10 Batch 2:  loss 1.82108 accuracy 0.53\n",
      "Epoch 12, CIFAR-10 Batch 3:  loss 1.76449 accuracy 0.523\n",
      "Epoch 12, CIFAR-10 Batch 4:  loss 1.78508 accuracy 0.538\n",
      "Epoch 12, CIFAR-10 Batch 5:  loss 1.80067 accuracy 0.5294\n",
      "Epoch 13, CIFAR-10 Batch 1:  loss 1.813 accuracy 0.5386\n",
      "Epoch 13, CIFAR-10 Batch 2:  loss 1.7845 accuracy 0.5346\n",
      "Epoch 13, CIFAR-10 Batch 3:  loss 1.73682 accuracy 0.5308\n",
      "Epoch 13, CIFAR-10 Batch 4:  loss 1.78279 accuracy 0.5338\n",
      "Epoch 13, CIFAR-10 Batch 5:  loss 1.77694 accuracy 0.522\n",
      "Epoch 14, CIFAR-10 Batch 1:  loss 1.8447 accuracy 0.5292\n",
      "Epoch 14, CIFAR-10 Batch 2:  loss 1.77272 accuracy 0.5298\n",
      "Epoch 14, CIFAR-10 Batch 3:  loss 1.7427 accuracy 0.5294\n",
      "Epoch 14, CIFAR-10 Batch 4:  loss 1.79235 accuracy 0.538\n",
      "Epoch 14, CIFAR-10 Batch 5:  loss 1.80828 accuracy 0.5316\n",
      "Epoch 15, CIFAR-10 Batch 1:  loss 1.80421 accuracy 0.5418\n",
      "Epoch 15, CIFAR-10 Batch 2:  loss 1.76108 accuracy 0.5284\n",
      "Epoch 15, CIFAR-10 Batch 3:  loss 1.73517 accuracy 0.5298\n",
      "Epoch 15, CIFAR-10 Batch 4:  loss 1.77627 accuracy 0.5388\n",
      "Epoch 15, CIFAR-10 Batch 5:  loss 1.78122 accuracy 0.5364\n",
      "Epoch 16, CIFAR-10 Batch 1:  loss 1.79571 accuracy 0.543\n",
      "Epoch 16, CIFAR-10 Batch 2:  loss 1.74998 accuracy 0.542\n",
      "Epoch 16, CIFAR-10 Batch 3:  loss 1.72852 accuracy 0.5464\n",
      "Epoch 16, CIFAR-10 Batch 4:  loss 1.79283 accuracy 0.5436\n",
      "Epoch 16, CIFAR-10 Batch 5:  loss 1.79706 accuracy 0.5378\n",
      "Epoch 17, CIFAR-10 Batch 1:  loss 1.81664 accuracy 0.5464\n",
      "Epoch 17, CIFAR-10 Batch 2:  loss 1.72964 accuracy 0.5368\n",
      "Epoch 17, CIFAR-10 Batch 3:  loss 1.72258 accuracy 0.5414\n",
      "Epoch 17, CIFAR-10 Batch 4:  loss 1.80147 accuracy 0.5492\n",
      "Epoch 17, CIFAR-10 Batch 5:  loss 1.76424 accuracy 0.5522\n",
      "Epoch 18, CIFAR-10 Batch 1:  loss 1.79191 accuracy 0.5492\n",
      "Epoch 18, CIFAR-10 Batch 2:  loss 1.74638 accuracy 0.5462\n",
      "Epoch 18, CIFAR-10 Batch 3:  loss 1.74061 accuracy 0.554\n",
      "Epoch 18, CIFAR-10 Batch 4:  loss 1.77667 accuracy 0.5508\n",
      "Epoch 18, CIFAR-10 Batch 5:  loss 1.77453 accuracy 0.5444\n",
      "Epoch 19, CIFAR-10 Batch 1:  loss 1.78846 accuracy 0.5534\n",
      "Epoch 19, CIFAR-10 Batch 2:  loss 1.7377 accuracy 0.5534\n",
      "Epoch 19, CIFAR-10 Batch 3:  loss 1.72549 accuracy 0.5572\n",
      "Epoch 19, CIFAR-10 Batch 4:  loss 1.78204 accuracy 0.555\n",
      "Epoch 19, CIFAR-10 Batch 5:  loss 1.77559 accuracy 0.5532\n",
      "Epoch 20, CIFAR-10 Batch 1:  loss 1.78659 accuracy 0.5542\n",
      "Epoch 20, CIFAR-10 Batch 2:  loss 1.73633 accuracy 0.5664\n",
      "Epoch 20, CIFAR-10 Batch 3:  loss 1.72653 accuracy 0.5606\n",
      "Epoch 20, CIFAR-10 Batch 4:  loss 1.76651 accuracy 0.5578\n",
      "Epoch 20, CIFAR-10 Batch 5:  loss 1.77317 accuracy 0.5558\n",
      "Epoch 21, CIFAR-10 Batch 1:  loss 1.78171 accuracy 0.5668\n",
      "Epoch 21, CIFAR-10 Batch 2:  loss 1.72275 accuracy 0.5668\n",
      "Epoch 21, CIFAR-10 Batch 3:  loss 1.70885 accuracy 0.5514\n",
      "Epoch 21, CIFAR-10 Batch 4:  loss 1.76263 accuracy 0.5628\n",
      "Epoch 21, CIFAR-10 Batch 5:  loss 1.74957 accuracy 0.5604\n",
      "Epoch 22, CIFAR-10 Batch 1:  loss 1.78264 accuracy 0.5724\n",
      "Epoch 22, CIFAR-10 Batch 2:  loss 1.74702 accuracy 0.5634\n",
      "Epoch 22, CIFAR-10 Batch 3:  loss 1.70311 accuracy 0.5648\n",
      "Epoch 22, CIFAR-10 Batch 4:  loss 1.76464 accuracy 0.5572\n",
      "Epoch 22, CIFAR-10 Batch 5:  loss 1.75254 accuracy 0.5638\n",
      "Epoch 23, CIFAR-10 Batch 1:  loss 1.78334 accuracy 0.5714\n",
      "Epoch 23, CIFAR-10 Batch 2:  loss 1.72674 accuracy 0.5578\n",
      "Epoch 23, CIFAR-10 Batch 3:  loss 1.73809 accuracy 0.5618\n",
      "Epoch 23, CIFAR-10 Batch 4:  loss 1.76721 accuracy 0.5666\n",
      "Epoch 23, CIFAR-10 Batch 5:  loss 1.77089 accuracy 0.5622\n",
      "Epoch 24, CIFAR-10 Batch 1:  loss 1.79187 accuracy 0.5628\n",
      "Epoch 24, CIFAR-10 Batch 2:  loss 1.71291 accuracy 0.5622\n",
      "Epoch 24, CIFAR-10 Batch 3:  loss 1.73258 accuracy 0.5562\n",
      "Epoch 24, CIFAR-10 Batch 4:  loss 1.76489 accuracy 0.5634\n",
      "Epoch 24, CIFAR-10 Batch 5:  loss 1.75227 accuracy 0.5654\n",
      "Epoch 25, CIFAR-10 Batch 1:  loss 1.76913 accuracy 0.571\n",
      "Epoch 25, CIFAR-10 Batch 2:  loss 1.72632 accuracy 0.5628\n",
      "Epoch 25, CIFAR-10 Batch 3:  loss 1.75431 accuracy 0.5684\n",
      "Epoch 25, CIFAR-10 Batch 4:  loss 1.75299 accuracy 0.563\n",
      "Epoch 25, CIFAR-10 Batch 5:  loss 1.72098 accuracy 0.5644\n",
      "Epoch 26, CIFAR-10 Batch 1:  loss 1.77799 accuracy 0.5704\n",
      "Epoch 26, CIFAR-10 Batch 2:  loss 1.72716 accuracy 0.563\n",
      "Epoch 26, CIFAR-10 Batch 3:  loss 1.72959 accuracy 0.5606\n",
      "Epoch 26, CIFAR-10 Batch 4:  loss 1.74777 accuracy 0.5616\n",
      "Epoch 26, CIFAR-10 Batch 5:  loss 1.73945 accuracy 0.567\n",
      "Epoch 27, CIFAR-10 Batch 1:  loss 1.77181 accuracy 0.573\n",
      "Epoch 27, CIFAR-10 Batch 2:  loss 1.74799 accuracy 0.5678\n",
      "Epoch 27, CIFAR-10 Batch 3:  loss 1.69873 accuracy 0.5696\n",
      "Epoch 27, CIFAR-10 Batch 4:  loss 1.75626 accuracy 0.5688\n",
      "Epoch 27, CIFAR-10 Batch 5:  loss 1.6993 accuracy 0.5714\n",
      "Epoch 28, CIFAR-10 Batch 1:  loss 1.78651 accuracy 0.5708\n",
      "Epoch 28, CIFAR-10 Batch 2:  loss 1.6995 accuracy 0.5638\n",
      "Epoch 28, CIFAR-10 Batch 3:  loss 1.73623 accuracy 0.5766\n",
      "Epoch 28, CIFAR-10 Batch 4:  loss 1.75504 accuracy 0.5724\n",
      "Epoch 28, CIFAR-10 Batch 5:  loss 1.72279 accuracy 0.5716\n",
      "Epoch 29, CIFAR-10 Batch 1:  loss 1.76968 accuracy 0.5748\n",
      "Epoch 29, CIFAR-10 Batch 2:  loss 1.7013 accuracy 0.5738\n",
      "Epoch 29, CIFAR-10 Batch 3:  loss 1.70442 accuracy 0.573\n",
      "Epoch 29, CIFAR-10 Batch 4:  loss 1.74467 accuracy 0.5686\n",
      "Epoch 29, CIFAR-10 Batch 5:  loss 1.72769 accuracy 0.5702\n",
      "Epoch 30, CIFAR-10 Batch 1:  loss 1.77028 accuracy 0.5656\n",
      "Epoch 30, CIFAR-10 Batch 2:  loss 1.70205 accuracy 0.5702\n",
      "Epoch 30, CIFAR-10 Batch 3:  loss 1.68336 accuracy 0.5666\n",
      "Epoch 30, CIFAR-10 Batch 4:  loss 1.73612 accuracy 0.5746\n",
      "Epoch 30, CIFAR-10 Batch 5:  loss 1.72689 accuracy 0.573\n",
      "Epoch 31, CIFAR-10 Batch 1:  loss 1.75332 accuracy 0.5768\n",
      "Epoch 31, CIFAR-10 Batch 2:  loss 1.69897 accuracy 0.5744\n",
      "Epoch 31, CIFAR-10 Batch 3:  loss 1.70662 accuracy 0.5714\n",
      "Epoch 31, CIFAR-10 Batch 4:  loss 1.74107 accuracy 0.5794\n",
      "Epoch 31, CIFAR-10 Batch 5:  loss 1.72659 accuracy 0.5762\n",
      "Epoch 32, CIFAR-10 Batch 1:  loss 1.78945 accuracy 0.5772\n",
      "Epoch 32, CIFAR-10 Batch 2:  loss 1.6946 accuracy 0.5778\n",
      "Epoch 32, CIFAR-10 Batch 3:  loss 1.71529 accuracy 0.5702\n",
      "Epoch 32, CIFAR-10 Batch 4:  loss 1.75696 accuracy 0.5752\n",
      "Epoch 32, CIFAR-10 Batch 5:  loss 1.72212 accuracy 0.572\n",
      "Epoch 33, CIFAR-10 Batch 1:  loss 1.7841 accuracy 0.5754\n",
      "Epoch 33, CIFAR-10 Batch 2:  loss 1.7086 accuracy 0.5802\n",
      "Epoch 33, CIFAR-10 Batch 3:  loss 1.72503 accuracy 0.5708\n",
      "Epoch 33, CIFAR-10 Batch 4:  loss 1.75449 accuracy 0.5768\n",
      "Epoch 33, CIFAR-10 Batch 5:  loss 1.70678 accuracy 0.5794\n",
      "Epoch 34, CIFAR-10 Batch 1:  loss 1.76475 accuracy 0.581\n",
      "Epoch 34, CIFAR-10 Batch 2:  loss 1.68975 accuracy 0.5756\n",
      "Epoch 34, CIFAR-10 Batch 3:  loss 1.71202 accuracy 0.573\n",
      "Epoch 34, CIFAR-10 Batch 4:  loss 1.75103 accuracy 0.5768\n",
      "Epoch 34, CIFAR-10 Batch 5:  loss 1.71941 accuracy 0.577\n",
      "Epoch 35, CIFAR-10 Batch 1:  loss 1.78137 accuracy 0.5752\n",
      "Epoch 35, CIFAR-10 Batch 2:  loss 1.71116 accuracy 0.5738\n",
      "Epoch 35, CIFAR-10 Batch 3:  loss 1.70657 accuracy 0.5728\n",
      "Epoch 35, CIFAR-10 Batch 4:  loss 1.7545 accuracy 0.574\n",
      "Epoch 35, CIFAR-10 Batch 5:  loss 1.71743 accuracy 0.575\n",
      "Epoch 36, CIFAR-10 Batch 1:  loss 1.77083 accuracy 0.5766\n",
      "Epoch 36, CIFAR-10 Batch 2:  loss 1.7117 accuracy 0.5812\n",
      "Epoch 36, CIFAR-10 Batch 3:  loss 1.70504 accuracy 0.5758\n",
      "Epoch 36, CIFAR-10 Batch 4:  loss 1.74258 accuracy 0.5784\n",
      "Epoch 36, CIFAR-10 Batch 5:  loss 1.7 accuracy 0.577\n",
      "Epoch 37, CIFAR-10 Batch 1:  loss 1.75601 accuracy 0.5734\n",
      "Epoch 37, CIFAR-10 Batch 2:  loss 1.70044 accuracy 0.5778\n",
      "Epoch 37, CIFAR-10 Batch 3:  loss 1.69515 accuracy 0.5682\n",
      "Epoch 37, CIFAR-10 Batch 4:  loss 1.75133 accuracy 0.5776\n",
      "Epoch 37, CIFAR-10 Batch 5:  loss 1.70816 accuracy 0.5766\n",
      "Epoch 38, CIFAR-10 Batch 1:  loss 1.76967 accuracy 0.581\n",
      "Epoch 38, CIFAR-10 Batch 2:  loss 1.68241 accuracy 0.578\n",
      "Epoch 38, CIFAR-10 Batch 3:  loss 1.72239 accuracy 0.5712\n",
      "Epoch 38, CIFAR-10 Batch 4:  loss 1.72678 accuracy 0.577\n",
      "Epoch 38, CIFAR-10 Batch 5:  loss 1.69968 accuracy 0.5806\n",
      "Epoch 39, CIFAR-10 Batch 1:  loss 1.76678 accuracy 0.5786\n",
      "Epoch 39, CIFAR-10 Batch 2:  loss 1.68946 accuracy 0.5712\n",
      "Epoch 39, CIFAR-10 Batch 3:  loss 1.70936 accuracy 0.574\n",
      "Epoch 39, CIFAR-10 Batch 4:  loss 1.74097 accuracy 0.5806\n",
      "Epoch 39, CIFAR-10 Batch 5:  loss 1.69607 accuracy 0.5772\n",
      "Epoch 40, CIFAR-10 Batch 1:  loss 1.7736 accuracy 0.5758\n",
      "Epoch 40, CIFAR-10 Batch 2:  loss 1.67185 accuracy 0.5772\n",
      "Epoch 40, CIFAR-10 Batch 3:  loss 1.68206 accuracy 0.577\n",
      "Epoch 40, CIFAR-10 Batch 4:  loss 1.74531 accuracy 0.5742\n",
      "Epoch 40, CIFAR-10 Batch 5:  loss 1.68781 accuracy 0.5758\n",
      "Epoch 41, CIFAR-10 Batch 1:  loss 1.77427 accuracy 0.5754\n",
      "Epoch 41, CIFAR-10 Batch 2:  loss 1.68516 accuracy 0.5738\n",
      "Epoch 41, CIFAR-10 Batch 3:  loss 1.69986 accuracy 0.5822\n",
      "Epoch 41, CIFAR-10 Batch 4:  loss 1.7426 accuracy 0.5824\n",
      "Epoch 41, CIFAR-10 Batch 5:  loss 1.69895 accuracy 0.5856\n",
      "Epoch 42, CIFAR-10 Batch 1:  loss 1.76955 accuracy 0.5788\n",
      "Epoch 42, CIFAR-10 Batch 2:  loss 1.66702 accuracy 0.5766\n",
      "Epoch 42, CIFAR-10 Batch 3:  loss 1.70494 accuracy 0.581\n",
      "Epoch 42, CIFAR-10 Batch 4:  loss 1.73759 accuracy 0.5818\n",
      "Epoch 42, CIFAR-10 Batch 5:  loss 1.7007 accuracy 0.5796\n",
      "Epoch 43, CIFAR-10 Batch 1:  loss 1.77005 accuracy 0.5842\n",
      "Epoch 43, CIFAR-10 Batch 2:  loss 1.68199 accuracy 0.5846\n",
      "Epoch 43, CIFAR-10 Batch 3:  loss 1.67873 accuracy 0.5844\n",
      "Epoch 43, CIFAR-10 Batch 4:  loss 1.72834 accuracy 0.583\n",
      "Epoch 43, CIFAR-10 Batch 5:  loss 1.72137 accuracy 0.575\n",
      "Epoch 44, CIFAR-10 Batch 1:  loss 1.77226 accuracy 0.581\n",
      "Epoch 44, CIFAR-10 Batch 2:  loss 1.70903 accuracy 0.5814\n",
      "Epoch 44, CIFAR-10 Batch 3:  loss 1.70716 accuracy 0.58\n",
      "Epoch 44, CIFAR-10 Batch 4:  loss 1.72315 accuracy 0.583\n",
      "Epoch 44, CIFAR-10 Batch 5:  loss 1.69442 accuracy 0.5814\n",
      "Epoch 45, CIFAR-10 Batch 1:  loss 1.76707 accuracy 0.578\n",
      "Epoch 45, CIFAR-10 Batch 2:  loss 1.70785 accuracy 0.5764\n",
      "Epoch 45, CIFAR-10 Batch 3:  loss 1.70574 accuracy 0.5816\n",
      "Epoch 45, CIFAR-10 Batch 4:  loss 1.72966 accuracy 0.5772\n",
      "Epoch 45, CIFAR-10 Batch 5:  loss 1.71144 accuracy 0.5718\n",
      "Epoch 46, CIFAR-10 Batch 1:  loss 1.79259 accuracy 0.5804\n",
      "Epoch 46, CIFAR-10 Batch 2:  loss 1.68626 accuracy 0.577\n",
      "Epoch 46, CIFAR-10 Batch 3:  loss 1.68767 accuracy 0.5806\n",
      "Epoch 46, CIFAR-10 Batch 4:  loss 1.73492 accuracy 0.5776\n",
      "Epoch 46, CIFAR-10 Batch 5:  loss 1.713 accuracy 0.578\n",
      "Epoch 47, CIFAR-10 Batch 1:  loss 1.76865 accuracy 0.5744\n",
      "Epoch 47, CIFAR-10 Batch 2:  loss 1.69851 accuracy 0.577\n",
      "Epoch 47, CIFAR-10 Batch 3:  loss 1.70638 accuracy 0.5802\n",
      "Epoch 47, CIFAR-10 Batch 4:  loss 1.74073 accuracy 0.5814\n",
      "Epoch 47, CIFAR-10 Batch 5:  loss 1.70404 accuracy 0.5774\n",
      "Epoch 48, CIFAR-10 Batch 1:  loss 1.77575 accuracy 0.573\n",
      "Epoch 48, CIFAR-10 Batch 2:  loss 1.69261 accuracy 0.582\n",
      "Epoch 48, CIFAR-10 Batch 3:  loss 1.68997 accuracy 0.5808\n",
      "Epoch 48, CIFAR-10 Batch 4:  loss 1.75992 accuracy 0.5762\n",
      "Epoch 48, CIFAR-10 Batch 5:  loss 1.67931 accuracy 0.5794\n",
      "Epoch 49, CIFAR-10 Batch 1:  loss 1.76626 accuracy 0.5826\n",
      "Epoch 49, CIFAR-10 Batch 2:  loss 1.67363 accuracy 0.5836\n",
      "Epoch 49, CIFAR-10 Batch 3:  loss 1.68682 accuracy 0.5848\n",
      "Epoch 49, CIFAR-10 Batch 4:  loss 1.73965 accuracy 0.5798\n",
      "Epoch 49, CIFAR-10 Batch 5:  loss 1.70185 accuracy 0.5848\n",
      "Epoch 50, CIFAR-10 Batch 1:  loss 1.7733 accuracy 0.5826\n",
      "Epoch 50, CIFAR-10 Batch 2:  loss 1.67775 accuracy 0.5852\n",
      "Epoch 50, CIFAR-10 Batch 3:  loss 1.67633 accuracy 0.5878\n",
      "Epoch 50, CIFAR-10 Batch 4:  loss 1.73545 accuracy 0.5816\n",
      "Epoch 50, CIFAR-10 Batch 5:  loss 1.6895 accuracy 0.5872\n",
      "Epoch 51, CIFAR-10 Batch 1:  loss 1.77201 accuracy 0.5864\n",
      "Epoch 51, CIFAR-10 Batch 2:  loss 1.68033 accuracy 0.5872\n",
      "Epoch 51, CIFAR-10 Batch 3:  loss 1.67532 accuracy 0.5906\n",
      "Epoch 51, CIFAR-10 Batch 4:  loss 1.75677 accuracy 0.5876\n",
      "Epoch 51, CIFAR-10 Batch 5:  loss 1.72431 accuracy 0.5814\n",
      "Epoch 52, CIFAR-10 Batch 1:  loss 1.7485 accuracy 0.5742\n",
      "Epoch 52, CIFAR-10 Batch 2:  loss 1.67513 accuracy 0.586\n",
      "Epoch 52, CIFAR-10 Batch 3:  loss 1.69149 accuracy 0.5804\n",
      "Epoch 52, CIFAR-10 Batch 4:  loss 1.73325 accuracy 0.5862\n",
      "Epoch 52, CIFAR-10 Batch 5:  loss 1.68027 accuracy 0.5774\n",
      "Epoch 53, CIFAR-10 Batch 1:  loss 1.7591 accuracy 0.5824\n",
      "Epoch 53, CIFAR-10 Batch 2:  loss 1.68801 accuracy 0.582\n",
      "Epoch 53, CIFAR-10 Batch 3:  loss 1.66797 accuracy 0.5796\n",
      "Epoch 53, CIFAR-10 Batch 4:  loss 1.7465 accuracy 0.5872\n",
      "Epoch 53, CIFAR-10 Batch 5:  loss 1.71035 accuracy 0.5832\n",
      "Epoch 54, CIFAR-10 Batch 1:  loss 1.77029 accuracy 0.5866\n",
      "Epoch 54, CIFAR-10 Batch 2:  loss 1.6875 accuracy 0.5822\n",
      "Epoch 54, CIFAR-10 Batch 3:  loss 1.68911 accuracy 0.5854\n",
      "Epoch 54, CIFAR-10 Batch 4:  loss 1.73123 accuracy 0.5864\n",
      "Epoch 54, CIFAR-10 Batch 5:  loss 1.70377 accuracy 0.5852\n",
      "Epoch 55, CIFAR-10 Batch 1:  loss 1.75755 accuracy 0.5876\n",
      "Epoch 55, CIFAR-10 Batch 2:  loss 1.67327 accuracy 0.5802\n",
      "Epoch 55, CIFAR-10 Batch 3:  loss 1.68265 accuracy 0.5836\n",
      "Epoch 55, CIFAR-10 Batch 4:  loss 1.72736 accuracy 0.5828\n",
      "Epoch 55, CIFAR-10 Batch 5:  loss 1.72721 accuracy 0.5838\n",
      "Epoch 56, CIFAR-10 Batch 1:  loss 1.7648 accuracy 0.5834\n",
      "Epoch 56, CIFAR-10 Batch 2:  loss 1.68918 accuracy 0.5952\n",
      "Epoch 56, CIFAR-10 Batch 3:  loss 1.69577 accuracy 0.5872\n",
      "Epoch 56, CIFAR-10 Batch 4:  loss 1.75436 accuracy 0.588\n",
      "Epoch 56, CIFAR-10 Batch 5:  loss 1.70542 accuracy 0.5872\n",
      "Epoch 57, CIFAR-10 Batch 1:  loss 1.76208 accuracy 0.5878\n",
      "Epoch 57, CIFAR-10 Batch 2:  loss 1.67728 accuracy 0.5892\n",
      "Epoch 57, CIFAR-10 Batch 3:  loss 1.65454 accuracy 0.5844\n",
      "Epoch 57, CIFAR-10 Batch 4:  loss 1.72337 accuracy 0.5846\n",
      "Epoch 57, CIFAR-10 Batch 5:  loss 1.70159 accuracy 0.5856\n",
      "Epoch 58, CIFAR-10 Batch 1:  loss 1.76197 accuracy 0.5804\n",
      "Epoch 58, CIFAR-10 Batch 2:  loss 1.67533 accuracy 0.5824\n",
      "Epoch 58, CIFAR-10 Batch 3:  loss 1.68012 accuracy 0.5818\n",
      "Epoch 58, CIFAR-10 Batch 4:  loss 1.71052 accuracy 0.5846\n",
      "Epoch 58, CIFAR-10 Batch 5:  loss 1.72335 accuracy 0.593\n",
      "Epoch 59, CIFAR-10 Batch 1:  loss 1.76361 accuracy 0.5878\n",
      "Epoch 59, CIFAR-10 Batch 2:  loss 1.69402 accuracy 0.5854\n",
      "Epoch 59, CIFAR-10 Batch 3:  loss 1.68025 accuracy 0.585\n",
      "Epoch 59, CIFAR-10 Batch 4:  loss 1.73146 accuracy 0.5818\n",
      "Epoch 59, CIFAR-10 Batch 5:  loss 1.70152 accuracy 0.5804\n",
      "Epoch 60, CIFAR-10 Batch 1:  loss 1.77064 accuracy 0.5904\n",
      "Epoch 60, CIFAR-10 Batch 2:  loss 1.68213 accuracy 0.5868\n",
      "Epoch 60, CIFAR-10 Batch 3:  loss 1.67316 accuracy 0.5876\n",
      "Epoch 60, CIFAR-10 Batch 4:  loss 1.72888 accuracy 0.5938\n",
      "Epoch 60, CIFAR-10 Batch 5:  loss 1.7015 accuracy 0.5864\n",
      "Epoch 61, CIFAR-10 Batch 1:  loss 1.76721 accuracy 0.583\n",
      "Epoch 61, CIFAR-10 Batch 2:  loss 1.68807 accuracy 0.5778\n",
      "Epoch 61, CIFAR-10 Batch 3:  loss 1.67744 accuracy 0.5856\n",
      "Epoch 61, CIFAR-10 Batch 4:  loss 1.71822 accuracy 0.5854\n",
      "Epoch 61, CIFAR-10 Batch 5:  loss 1.74451 accuracy 0.5822\n",
      "Epoch 62, CIFAR-10 Batch 1:  loss 1.76705 accuracy 0.588\n",
      "Epoch 62, CIFAR-10 Batch 2:  loss 1.67836 accuracy 0.5866\n",
      "Epoch 62, CIFAR-10 Batch 3:  loss 1.68177 accuracy 0.5806\n",
      "Epoch 62, CIFAR-10 Batch 4:  loss 1.71296 accuracy 0.5892\n",
      "Epoch 62, CIFAR-10 Batch 5:  loss 1.69145 accuracy 0.587\n",
      "Epoch 63, CIFAR-10 Batch 1:  loss 1.75918 accuracy 0.5818\n",
      "Epoch 63, CIFAR-10 Batch 2:  loss 1.66655 accuracy 0.586\n",
      "Epoch 63, CIFAR-10 Batch 3:  loss 1.6731 accuracy 0.5828\n",
      "Epoch 63, CIFAR-10 Batch 4:  loss 1.70759 accuracy 0.5858\n",
      "Epoch 63, CIFAR-10 Batch 5:  loss 1.67943 accuracy 0.5864\n",
      "Epoch 64, CIFAR-10 Batch 1:  loss 1.75701 accuracy 0.5856\n",
      "Epoch 64, CIFAR-10 Batch 2:  loss 1.66065 accuracy 0.5822\n",
      "Epoch 64, CIFAR-10 Batch 3:  loss 1.68284 accuracy 0.582\n",
      "Epoch 64, CIFAR-10 Batch 4:  loss 1.71549 accuracy 0.5854\n",
      "Epoch 64, CIFAR-10 Batch 5:  loss 1.68593 accuracy 0.5866\n",
      "Epoch 65, CIFAR-10 Batch 1:  loss 1.75376 accuracy 0.5886\n",
      "Epoch 65, CIFAR-10 Batch 2:  loss 1.66942 accuracy 0.5884\n",
      "Epoch 65, CIFAR-10 Batch 3:  loss 1.66542 accuracy 0.5874\n",
      "Epoch 65, CIFAR-10 Batch 4:  loss 1.7188 accuracy 0.5826\n",
      "Epoch 65, CIFAR-10 Batch 5:  loss 1.68229 accuracy 0.592\n",
      "Epoch 66, CIFAR-10 Batch 1:  loss 1.76583 accuracy 0.5832\n",
      "Epoch 66, CIFAR-10 Batch 2:  loss 1.66858 accuracy 0.5872\n",
      "Epoch 66, CIFAR-10 Batch 3:  loss 1.68317 accuracy 0.5822\n",
      "Epoch 66, CIFAR-10 Batch 4:  loss 1.70093 accuracy 0.5886\n",
      "Epoch 66, CIFAR-10 Batch 5:  loss 1.71364 accuracy 0.589\n",
      "Epoch 67, CIFAR-10 Batch 1:  loss 1.77639 accuracy 0.5866\n",
      "Epoch 67, CIFAR-10 Batch 2:  loss 1.68821 accuracy 0.5826\n",
      "Epoch 67, CIFAR-10 Batch 3:  loss 1.66506 accuracy 0.5856\n",
      "Epoch 67, CIFAR-10 Batch 4:  loss 1.74262 accuracy 0.5864\n",
      "Epoch 67, CIFAR-10 Batch 5:  loss 1.67947 accuracy 0.5836\n",
      "Epoch 68, CIFAR-10 Batch 1:  loss 1.75396 accuracy 0.5934\n",
      "Epoch 68, CIFAR-10 Batch 2:  loss 1.6762 accuracy 0.5858\n",
      "Epoch 68, CIFAR-10 Batch 3:  loss 1.64394 accuracy 0.583\n",
      "Epoch 68, CIFAR-10 Batch 4:  loss 1.70925 accuracy 0.59\n",
      "Epoch 68, CIFAR-10 Batch 5:  loss 1.68931 accuracy 0.5918\n",
      "Epoch 69, CIFAR-10 Batch 1:  loss 1.75315 accuracy 0.5862\n",
      "Epoch 69, CIFAR-10 Batch 2:  loss 1.67497 accuracy 0.5892\n",
      "Epoch 69, CIFAR-10 Batch 3:  loss 1.6724 accuracy 0.5846\n",
      "Epoch 69, CIFAR-10 Batch 4:  loss 1.74766 accuracy 0.5932\n",
      "Epoch 69, CIFAR-10 Batch 5:  loss 1.7011 accuracy 0.5868\n",
      "Epoch 70, CIFAR-10 Batch 1:  loss 1.74993 accuracy 0.589\n",
      "Epoch 70, CIFAR-10 Batch 2:  loss 1.65828 accuracy 0.593\n",
      "Epoch 70, CIFAR-10 Batch 3:  loss 1.63819 accuracy 0.584\n",
      "Epoch 70, CIFAR-10 Batch 4:  loss 1.73757 accuracy 0.589\n",
      "Epoch 70, CIFAR-10 Batch 5:  loss 1.6752 accuracy 0.589\n",
      "Epoch 71, CIFAR-10 Batch 1:  loss 1.74973 accuracy 0.5858\n",
      "Epoch 71, CIFAR-10 Batch 2:  loss 1.68159 accuracy 0.5882\n",
      "Epoch 71, CIFAR-10 Batch 3:  loss 1.67522 accuracy 0.5858\n",
      "Epoch 71, CIFAR-10 Batch 4:  loss 1.72098 accuracy 0.5898\n",
      "Epoch 71, CIFAR-10 Batch 5:  loss 1.70116 accuracy 0.5884\n",
      "Epoch 72, CIFAR-10 Batch 1:  loss 1.7615 accuracy 0.5886\n",
      "Epoch 72, CIFAR-10 Batch 2:  loss 1.66683 accuracy 0.587\n",
      "Epoch 72, CIFAR-10 Batch 3:  loss 1.66549 accuracy 0.5842\n",
      "Epoch 72, CIFAR-10 Batch 4:  loss 1.72436 accuracy 0.5898\n",
      "Epoch 72, CIFAR-10 Batch 5:  loss 1.67184 accuracy 0.5906\n",
      "Epoch 73, CIFAR-10 Batch 1:  loss 1.75003 accuracy 0.592\n",
      "Epoch 73, CIFAR-10 Batch 2:  loss 1.67186 accuracy 0.5884\n",
      "Epoch 73, CIFAR-10 Batch 3:  loss 1.65728 accuracy 0.5764\n",
      "Epoch 73, CIFAR-10 Batch 4:  loss 1.70176 accuracy 0.5916\n",
      "Epoch 73, CIFAR-10 Batch 5:  loss 1.71959 accuracy 0.5876\n",
      "Epoch 74, CIFAR-10 Batch 1:  loss 1.75366 accuracy 0.5894\n",
      "Epoch 74, CIFAR-10 Batch 2:  loss 1.66348 accuracy 0.5924\n",
      "Epoch 74, CIFAR-10 Batch 3:  loss 1.67332 accuracy 0.5912\n",
      "Epoch 74, CIFAR-10 Batch 4:  loss 1.71027 accuracy 0.5928\n",
      "Epoch 74, CIFAR-10 Batch 5:  loss 1.69917 accuracy 0.5856\n",
      "Epoch 75, CIFAR-10 Batch 1:  loss 1.75766 accuracy 0.5882\n",
      "Epoch 75, CIFAR-10 Batch 2:  loss 1.67776 accuracy 0.5806\n",
      "Epoch 75, CIFAR-10 Batch 3:  loss 1.66885 accuracy 0.5854\n",
      "Epoch 75, CIFAR-10 Batch 4:  loss 1.71654 accuracy 0.5884\n",
      "Epoch 75, CIFAR-10 Batch 5:  loss 1.69809 accuracy 0.5856\n",
      "Epoch 76, CIFAR-10 Batch 1:  loss 1.73672 accuracy 0.588\n",
      "Epoch 76, CIFAR-10 Batch 2:  loss 1.66046 accuracy 0.579\n",
      "Epoch 76, CIFAR-10 Batch 3:  loss 1.66734 accuracy 0.5832\n",
      "Epoch 76, CIFAR-10 Batch 4:  loss 1.7345 accuracy 0.5908\n",
      "Epoch 76, CIFAR-10 Batch 5:  loss 1.67215 accuracy 0.5906\n",
      "Epoch 77, CIFAR-10 Batch 1:  loss 1.73649 accuracy 0.5876\n",
      "Epoch 77, CIFAR-10 Batch 2:  loss 1.65971 accuracy 0.5888\n",
      "Epoch 77, CIFAR-10 Batch 3:  loss 1.64868 accuracy 0.5826\n",
      "Epoch 77, CIFAR-10 Batch 4:  loss 1.71315 accuracy 0.592\n",
      "Epoch 77, CIFAR-10 Batch 5:  loss 1.70135 accuracy 0.5868\n",
      "Epoch 78, CIFAR-10 Batch 1:  loss 1.77047 accuracy 0.5892\n",
      "Epoch 78, CIFAR-10 Batch 2:  loss 1.68216 accuracy 0.5728\n",
      "Epoch 78, CIFAR-10 Batch 3:  loss 1.6545 accuracy 0.5898\n",
      "Epoch 78, CIFAR-10 Batch 4:  loss 1.69804 accuracy 0.5924\n",
      "Epoch 78, CIFAR-10 Batch 5:  loss 1.65902 accuracy 0.5858\n",
      "Epoch 79, CIFAR-10 Batch 1:  loss 1.74791 accuracy 0.5894\n",
      "Epoch 79, CIFAR-10 Batch 2:  loss 1.65977 accuracy 0.584\n",
      "Epoch 79, CIFAR-10 Batch 3:  loss 1.64142 accuracy 0.5838\n",
      "Epoch 79, CIFAR-10 Batch 4:  loss 1.70961 accuracy 0.5892\n",
      "Epoch 79, CIFAR-10 Batch 5:  loss 1.69243 accuracy 0.5898\n",
      "Epoch 80, CIFAR-10 Batch 1:  loss 1.75848 accuracy 0.5872\n",
      "Epoch 80, CIFAR-10 Batch 2:  loss 1.67283 accuracy 0.5858\n",
      "Epoch 80, CIFAR-10 Batch 3:  loss 1.64012 accuracy 0.584\n",
      "Epoch 80, CIFAR-10 Batch 4:  loss 1.69705 accuracy 0.5902\n",
      "Epoch 80, CIFAR-10 Batch 5:  loss 1.67458 accuracy 0.5828\n",
      "Epoch 81, CIFAR-10 Batch 1:  loss 1.73686 accuracy 0.5842\n",
      "Epoch 81, CIFAR-10 Batch 2:  loss 1.68905 accuracy 0.5888\n",
      "Epoch 81, CIFAR-10 Batch 3:  loss 1.6549 accuracy 0.5814\n",
      "Epoch 81, CIFAR-10 Batch 4:  loss 1.71574 accuracy 0.587\n",
      "Epoch 81, CIFAR-10 Batch 5:  loss 1.67601 accuracy 0.5852\n",
      "Epoch 82, CIFAR-10 Batch 1:  loss 1.74155 accuracy 0.5788\n",
      "Epoch 82, CIFAR-10 Batch 2:  loss 1.6966 accuracy 0.5838\n",
      "Epoch 82, CIFAR-10 Batch 3:  loss 1.63994 accuracy 0.5886\n",
      "Epoch 82, CIFAR-10 Batch 4:  loss 1.69877 accuracy 0.5818\n",
      "Epoch 82, CIFAR-10 Batch 5:  loss 1.6864 accuracy 0.5856\n",
      "Epoch 83, CIFAR-10 Batch 1:  loss 1.74346 accuracy 0.5798\n",
      "Epoch 83, CIFAR-10 Batch 2:  loss 1.69945 accuracy 0.5874\n",
      "Epoch 83, CIFAR-10 Batch 3:  loss 1.66766 accuracy 0.5866\n",
      "Epoch 83, CIFAR-10 Batch 4:  loss 1.70169 accuracy 0.5868\n",
      "Epoch 83, CIFAR-10 Batch 5:  loss 1.68926 accuracy 0.588\n",
      "Epoch 84, CIFAR-10 Batch 1:  loss 1.75539 accuracy 0.5852\n",
      "Epoch 84, CIFAR-10 Batch 2:  loss 1.66669 accuracy 0.5872\n",
      "Epoch 84, CIFAR-10 Batch 3:  loss 1.66781 accuracy 0.5826\n",
      "Epoch 84, CIFAR-10 Batch 4:  loss 1.70661 accuracy 0.58\n",
      "Epoch 84, CIFAR-10 Batch 5:  loss 1.6852 accuracy 0.5806\n",
      "Epoch 85, CIFAR-10 Batch 1:  loss 1.75875 accuracy 0.577\n",
      "Epoch 85, CIFAR-10 Batch 2:  loss 1.66637 accuracy 0.5816\n",
      "Epoch 85, CIFAR-10 Batch 3:  loss 1.65838 accuracy 0.5882\n",
      "Epoch 85, CIFAR-10 Batch 4:  loss 1.71642 accuracy 0.591\n",
      "Epoch 85, CIFAR-10 Batch 5:  loss 1.68196 accuracy 0.5926\n",
      "Epoch 86, CIFAR-10 Batch 1:  loss 1.7676 accuracy 0.589\n",
      "Epoch 86, CIFAR-10 Batch 2:  loss 1.6866 accuracy 0.5868\n",
      "Epoch 86, CIFAR-10 Batch 3:  loss 1.67096 accuracy 0.5928\n",
      "Epoch 86, CIFAR-10 Batch 4:  loss 1.70522 accuracy 0.5914\n",
      "Epoch 86, CIFAR-10 Batch 5:  loss 1.66509 accuracy 0.5926\n",
      "Epoch 87, CIFAR-10 Batch 1:  loss 1.75974 accuracy 0.5898\n",
      "Epoch 87, CIFAR-10 Batch 2:  loss 1.6744 accuracy 0.5938\n",
      "Epoch 87, CIFAR-10 Batch 3:  loss 1.66966 accuracy 0.589\n",
      "Epoch 87, CIFAR-10 Batch 4:  loss 1.68011 accuracy 0.5938\n",
      "Epoch 87, CIFAR-10 Batch 5:  loss 1.65844 accuracy 0.5904\n",
      "Epoch 88, CIFAR-10 Batch 1:  loss 1.76448 accuracy 0.5858\n",
      "Epoch 88, CIFAR-10 Batch 2:  loss 1.68008 accuracy 0.5862\n",
      "Epoch 88, CIFAR-10 Batch 3:  loss 1.68431 accuracy 0.5858\n",
      "Epoch 88, CIFAR-10 Batch 4:  loss 1.69066 accuracy 0.59\n",
      "Epoch 88, CIFAR-10 Batch 5:  loss 1.66257 accuracy 0.5798\n",
      "Epoch 89, CIFAR-10 Batch 1:  loss 1.74686 accuracy 0.5838\n",
      "Epoch 89, CIFAR-10 Batch 2:  loss 1.66265 accuracy 0.5868\n",
      "Epoch 89, CIFAR-10 Batch 3:  loss 1.64813 accuracy 0.5896\n",
      "Epoch 89, CIFAR-10 Batch 4:  loss 1.68285 accuracy 0.5958\n",
      "Epoch 89, CIFAR-10 Batch 5:  loss 1.66493 accuracy 0.5886\n",
      "Epoch 90, CIFAR-10 Batch 1:  loss 1.74769 accuracy 0.5886\n",
      "Epoch 90, CIFAR-10 Batch 2:  loss 1.6536 accuracy 0.5882\n",
      "Epoch 90, CIFAR-10 Batch 3:  loss 1.64796 accuracy 0.587\n",
      "Epoch 90, CIFAR-10 Batch 4:  loss 1.68948 accuracy 0.5818\n",
      "Epoch 90, CIFAR-10 Batch 5:  loss 1.66643 accuracy 0.5856\n",
      "Epoch 91, CIFAR-10 Batch 1:  loss 1.7544 accuracy 0.586\n",
      "Epoch 91, CIFAR-10 Batch 2:  loss 1.67394 accuracy 0.5888\n",
      "Epoch 91, CIFAR-10 Batch 3:  loss 1.67493 accuracy 0.5798\n",
      "Epoch 91, CIFAR-10 Batch 4:  loss 1.69474 accuracy 0.5854\n",
      "Epoch 91, CIFAR-10 Batch 5:  loss 1.65991 accuracy 0.583\n",
      "Epoch 92, CIFAR-10 Batch 1:  loss 1.74848 accuracy 0.5884\n",
      "Epoch 92, CIFAR-10 Batch 2:  loss 1.6546 accuracy 0.5874\n",
      "Epoch 92, CIFAR-10 Batch 3:  loss 1.65448 accuracy 0.5862\n",
      "Epoch 92, CIFAR-10 Batch 4:  loss 1.66856 accuracy 0.5892\n",
      "Epoch 92, CIFAR-10 Batch 5:  loss 1.66925 accuracy 0.5846\n",
      "Epoch 93, CIFAR-10 Batch 1:  loss 1.73555 accuracy 0.5888\n",
      "Epoch 93, CIFAR-10 Batch 2:  loss 1.67431 accuracy 0.586\n",
      "Epoch 93, CIFAR-10 Batch 3:  loss 1.67193 accuracy 0.582\n",
      "Epoch 93, CIFAR-10 Batch 4:  loss 1.6832 accuracy 0.5816\n",
      "Epoch 93, CIFAR-10 Batch 5:  loss 1.67668 accuracy 0.5832\n",
      "Epoch 94, CIFAR-10 Batch 1:  loss 1.75539 accuracy 0.5828\n",
      "Epoch 94, CIFAR-10 Batch 2:  loss 1.66057 accuracy 0.5842\n",
      "Epoch 94, CIFAR-10 Batch 3:  loss 1.6287 accuracy 0.5864\n",
      "Epoch 94, CIFAR-10 Batch 4:  loss 1.68112 accuracy 0.5898\n",
      "Epoch 94, CIFAR-10 Batch 5:  loss 1.69457 accuracy 0.5886\n",
      "Epoch 95, CIFAR-10 Batch 1:  loss 1.74428 accuracy 0.582\n",
      "Epoch 95, CIFAR-10 Batch 2:  loss 1.65929 accuracy 0.5886\n",
      "Epoch 95, CIFAR-10 Batch 3:  loss 1.66713 accuracy 0.5884\n",
      "Epoch 95, CIFAR-10 Batch 4:  loss 1.68085 accuracy 0.5924\n",
      "Epoch 95, CIFAR-10 Batch 5:  loss 1.67398 accuracy 0.5884\n",
      "Epoch 96, CIFAR-10 Batch 1:  loss 1.74786 accuracy 0.591\n",
      "Epoch 96, CIFAR-10 Batch 2:  loss 1.6599 accuracy 0.5864\n",
      "Epoch 96, CIFAR-10 Batch 3:  loss 1.65924 accuracy 0.5862\n",
      "Epoch 96, CIFAR-10 Batch 4:  loss 1.68742 accuracy 0.5904\n",
      "Epoch 96, CIFAR-10 Batch 5:  loss 1.68326 accuracy 0.5884\n",
      "Epoch 97, CIFAR-10 Batch 1:  loss 1.75279 accuracy 0.589\n",
      "Epoch 97, CIFAR-10 Batch 2:  loss 1.6523 accuracy 0.5872\n",
      "Epoch 97, CIFAR-10 Batch 3:  loss 1.67351 accuracy 0.5888\n",
      "Epoch 97, CIFAR-10 Batch 4:  loss 1.69792 accuracy 0.5878\n",
      "Epoch 97, CIFAR-10 Batch 5:  loss 1.66656 accuracy 0.595\n",
      "Epoch 98, CIFAR-10 Batch 1:  loss 1.75086 accuracy 0.593\n",
      "Epoch 98, CIFAR-10 Batch 2:  loss 1.68677 accuracy 0.5912\n",
      "Epoch 98, CIFAR-10 Batch 3:  loss 1.67034 accuracy 0.593\n",
      "Epoch 98, CIFAR-10 Batch 4:  loss 1.71371 accuracy 0.5912\n",
      "Epoch 98, CIFAR-10 Batch 5:  loss 1.66466 accuracy 0.584\n",
      "Epoch 99, CIFAR-10 Batch 1:  loss 1.75413 accuracy 0.588\n",
      "Epoch 99, CIFAR-10 Batch 2:  loss 1.64574 accuracy 0.5862\n",
      "Epoch 99, CIFAR-10 Batch 3:  loss 1.66354 accuracy 0.583\n",
      "Epoch 99, CIFAR-10 Batch 4:  loss 1.68086 accuracy 0.5882\n",
      "Epoch 99, CIFAR-10 Batch 5:  loss 1.68425 accuracy 0.5892\n",
      "Epoch 100, CIFAR-10 Batch 1:  loss 1.75047 accuracy 0.5816\n",
      "Epoch 100, CIFAR-10 Batch 2:  loss 1.66841 accuracy 0.5948\n",
      "Epoch 100, CIFAR-10 Batch 3:  loss 1.65136 accuracy 0.5912\n",
      "Epoch 100, CIFAR-10 Batch 4:  loss 1.7132 accuracy 0.5898\n",
      "Epoch 100, CIFAR-10 Batch 5:  loss 1.68979 accuracy 0.5874\n"
     ]
    }
   ],
   "source": [
    "\"\"\"\n",
    "DON'T MODIFY ANYTHING IN THIS CELL\n",
    "\"\"\"\n",
    "save_model_path = './image_classification'\n",
    "\n",
    "print('Training...')\n",
    "with tf.Session() as sess:\n",
    "    # Initializing the variables\n",
    "    sess.run(tf.global_variables_initializer())\n",
    "    \n",
    "    # Training cycle\n",
    "    for epoch in range(epochs):\n",
    "        # Loop over all batches\n",
    "        n_batches = 5\n",
    "        for batch_i in range(1, n_batches + 1):\n",
    "            for batch_features, batch_labels in helper.load_preprocess_training_batch(batch_i, batch_size):\n",
    "                train_neural_network(sess, optimizer, keep_probability, batch_features, batch_labels)\n",
    "            print('Epoch {:>2}, CIFAR-10 Batch {}:  '.format(epoch + 1, batch_i), end='')\n",
    "            print_stats(sess, batch_features, batch_labels, cost, accuracy)\n",
    "            \n",
    "    # Save Model\n",
    "    saver = tf.train.Saver()\n",
    "    save_path = saver.save(sess, save_model_path)"
   ]
  },
  {
   "cell_type": "markdown",
   "metadata": {
    "deletable": true,
    "editable": true
   },
   "source": [
    "# Checkpoint\n",
    "The model has been saved to disk.\n",
    "## Test Model\n",
    "Test your model against the test dataset.  This will be your final accuracy. You should have an accuracy greater than 50%. If you don't, keep tweaking the model architecture and parameters."
   ]
  },
  {
   "cell_type": "code",
   "execution_count": 49,
   "metadata": {
    "collapsed": false,
    "deletable": true,
    "editable": true
   },
   "outputs": [
    {
     "name": "stdout",
     "output_type": "stream",
     "text": [
      "Testing Accuracy: 0.5876791401273885\n",
      "\n"
     ]
    },
    {
     "data": {
      "image/png": "[encoded data removed]",
      "text/plain": [
       "<matplotlib.figure.Figure at 0x7f1c3ea29eb8>"
      ]
     },
     "metadata": {
      "image/png": {
       "height": 319,
       "width": 355
      }
     },
     "output_type": "display_data"
    }
   ],
   "source": [
    "\"\"\"\n",
    "DON'T MODIFY ANYTHING IN THIS CELL\n",
    "\"\"\"\n",
    "%matplotlib inline\n",
    "%config InlineBackend.figure_format = 'retina'\n",
    "\n",
    "import tensorflow as tf\n",
    "import pickle\n",
    "import helper\n",
    "import random\n",
    "\n",
    "# Set batch size if not already set\n",
    "try:\n",
    "    if batch_size:\n",
    "        pass\n",
    "except NameError:\n",
    "    batch_size = 64\n",
    "\n",
    "save_model_path = './image_classification'\n",
    "n_samples = 4\n",
    "top_n_predictions = 3\n",
    "\n",
    "def test_model():\n",
    "    \"\"\"\n",
    "    Test the saved model against the test dataset\n",
    "    \"\"\"\n",
    "\n",
    "    test_features, test_labels = pickle.load(open('preprocess_training.p', mode='rb'))\n",
    "    loaded_graph = tf.Graph()\n",
    "\n",
    "    with tf.Session(graph=loaded_graph) as sess:\n",
    "        # Load model\n",
    "        loader = tf.train.import_meta_graph(save_model_path + '.meta')\n",
    "        loader.restore(sess, save_model_path)\n",
    "\n",
    "        # Get Tensors from loaded model\n",
    "        loaded_x = loaded_graph.get_tensor_by_name('x:0')\n",
    "        loaded_y = loaded_graph.get_tensor_by_name('y:0')\n",
    "        loaded_keep_prob = loaded_graph.get_tensor_by_name('keep_prob:0')\n",
    "        loaded_logits = loaded_graph.get_tensor_by_name('logits:0')\n",
    "        loaded_acc = loaded_graph.get_tensor_by_name('accuracy:0')\n",
    "        \n",
    "        # Get accuracy in batches for memory limitations\n",
    "        test_batch_acc_total = 0\n",
    "        test_batch_count = 0\n",
    "        \n",
    "        for train_feature_batch, train_label_batch in helper.batch_features_labels(test_features, test_labels, batch_size):\n",
    "            test_batch_acc_total += sess.run(\n",
    "                loaded_acc,\n",
    "                feed_dict={loaded_x: train_feature_batch, loaded_y: train_label_batch, loaded_keep_prob: 1.0})\n",
    "            test_batch_count += 1\n",
    "\n",
    "        print('Testing Accuracy: {}\\n'.format(test_batch_acc_total/test_batch_count))\n",
    "\n",
    "        # Print Random Samples\n",
    "        random_test_features, random_test_labels = tuple(zip(*random.sample(list(zip(test_features, test_labels)), n_samples)))\n",
    "        random_test_predictions = sess.run(\n",
    "            tf.nn.top_k(tf.nn.softmax(loaded_logits), top_n_predictions),\n",
    "            feed_dict={loaded_x: random_test_features, loaded_y: random_test_labels, loaded_keep_prob: 1.0})\n",
    "        helper.display_image_predictions(random_test_features, random_test_labels, random_test_predictions)\n",
    "\n",
    "\n",
    "test_model()"
   ]
  },
  {
   "cell_type": "markdown",
   "metadata": {
    "deletable": true,
    "editable": true
   },
   "source": [
    "## Why 50-70% Accuracy?\n",
    "You might be wondering why you can't get an accuracy any higher. First things first, 50% isn't bad for a simple CNN.  Pure guessing would get you 10% accuracy. However, you might notice people are getting scores [well above 70%](http://rodrigob.github.io/are_we_there_yet/build/classification_datasets_results.html#43494641522d3130).  That's because we haven't taught you all there is to know about neural networks. We still need to cover a few more techniques.\n",
    "## Submitting This Project\n",
    "When submitting this project, make sure to run all the cells before saving the notebook.  Save the notebook file as \"dlnd_image_classification.ipynb\" and save it as a HTML file under \"File\" -> \"Download as\".  Include the \"helper.py\" and \"problem_unittests.py\" files in your submission."
   ]
  }
 ],
 "metadata": {
  "kernelspec": {
   "display_name": "Python 3",
   "language": "python",
   "name": "python3"
  },
  "language_info": {
   "codemirror_mode": {
    "name": "ipython",
    "version": 3
   },
   "file_extension": ".py",
   "mimetype": "text/x-python",
   "name": "python",
   "nbconvert_exporter": "python",
   "pygments_lexer": "ipython3",
   "version": "3.5.2"
  },
  "widgets": {
   "state": {},
   "version": "1.1.2"
  }
 },
 "nbformat": 4,
 "nbformat_minor": 0
}
